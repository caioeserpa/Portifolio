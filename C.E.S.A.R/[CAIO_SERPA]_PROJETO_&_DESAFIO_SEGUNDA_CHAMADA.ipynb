{
  "cells": [
    {
      "cell_type": "markdown",
      "metadata": {
        "id": "view-in-github",
        "colab_type": "text"
      },
      "source": [
        "<a href=\"https://colab.research.google.com/github/caioeserpa/Portifolio/blob/main/C.E.S.A.R/%5BCAIO_SERPA%5D_PROJETO_%26_DESAFIO_SEGUNDA_CHAMADA.ipynb\" target=\"_parent\"><img src=\"https://colab.research.google.com/assets/colab-badge.svg\" alt=\"Open In Colab\"/></a>"
      ]
    },
    {
      "cell_type": "markdown",
      "id": "389fa8db-5cda-4cbb-92f7-9d950363847a",
      "metadata": {
        "id": "389fa8db-5cda-4cbb-92f7-9d950363847a"
      },
      "source": [
        "# PROJETO & DESAFIO \n",
        "\n",
        "## **Análise de Clusters e Redução de Dimensionalidade**\n",
        "\n",
        "---\n",
        "*segunda chamada*\n",
        "---\n",
        "**Análise de dados no dataset: California Housing**\n",
        "\n",
        "**Aluno: Caio Emanoel Serpa Lopes**\n"
      ]
    },
    {
      "cell_type": "markdown",
      "id": "9979a9c4-8f52-444c-b1d3-dd0a0cd5eb37",
      "metadata": {
        "id": "9979a9c4-8f52-444c-b1d3-dd0a0cd5eb37"
      },
      "source": [
        "# Importando Dataset e Análise inicial\n"
      ]
    },
    {
      "cell_type": "code",
      "execution_count": null,
      "id": "d9832b77-3e1c-4016-b0f2-c94196ab71fc",
      "metadata": {
        "colab": {
          "base_uri": "https://localhost:8080/"
        },
        "id": "d9832b77-3e1c-4016-b0f2-c94196ab71fc",
        "outputId": "5bb354b7-bbe9-40b1-aa81-4d4589aa1cbb"
      },
      "outputs": [
        {
          "data": {
            "text/plain": [
              "{'data':        MedInc  HouseAge  AveRooms  AveBedrms  Population  AveOccup  Latitude  \\\n",
              " 0      8.3252      41.0  6.984127   1.023810       322.0  2.555556     37.88   \n",
              " 1      8.3014      21.0  6.238137   0.971880      2401.0  2.109842     37.86   \n",
              " 2      7.2574      52.0  8.288136   1.073446       496.0  2.802260     37.85   \n",
              " 3      5.6431      52.0  5.817352   1.073059       558.0  2.547945     37.85   \n",
              " 4      3.8462      52.0  6.281853   1.081081       565.0  2.181467     37.85   \n",
              " ...       ...       ...       ...        ...         ...       ...       ...   \n",
              " 20635  1.5603      25.0  5.045455   1.133333       845.0  2.560606     39.48   \n",
              " 20636  2.5568      18.0  6.114035   1.315789       356.0  3.122807     39.49   \n",
              " 20637  1.7000      17.0  5.205543   1.120092      1007.0  2.325635     39.43   \n",
              " 20638  1.8672      18.0  5.329513   1.171920       741.0  2.123209     39.43   \n",
              " 20639  2.3886      16.0  5.254717   1.162264      1387.0  2.616981     39.37   \n",
              " \n",
              "        Longitude  \n",
              " 0        -122.23  \n",
              " 1        -122.22  \n",
              " 2        -122.24  \n",
              " 3        -122.25  \n",
              " 4        -122.25  \n",
              " ...          ...  \n",
              " 20635    -121.09  \n",
              " 20636    -121.21  \n",
              " 20637    -121.22  \n",
              " 20638    -121.32  \n",
              " 20639    -121.24  \n",
              " \n",
              " [20640 rows x 8 columns],\n",
              " 'target': 0        4.526\n",
              " 1        3.585\n",
              " 2        3.521\n",
              " 3        3.413\n",
              " 4        3.422\n",
              "          ...  \n",
              " 20635    0.781\n",
              " 20636    0.771\n",
              " 20637    0.923\n",
              " 20638    0.847\n",
              " 20639    0.894\n",
              " Name: MedHouseVal, Length: 20640, dtype: float64,\n",
              " 'frame':        MedInc  HouseAge  AveRooms  AveBedrms  Population  AveOccup  Latitude  \\\n",
              " 0      8.3252      41.0  6.984127   1.023810       322.0  2.555556     37.88   \n",
              " 1      8.3014      21.0  6.238137   0.971880      2401.0  2.109842     37.86   \n",
              " 2      7.2574      52.0  8.288136   1.073446       496.0  2.802260     37.85   \n",
              " 3      5.6431      52.0  5.817352   1.073059       558.0  2.547945     37.85   \n",
              " 4      3.8462      52.0  6.281853   1.081081       565.0  2.181467     37.85   \n",
              " ...       ...       ...       ...        ...         ...       ...       ...   \n",
              " 20635  1.5603      25.0  5.045455   1.133333       845.0  2.560606     39.48   \n",
              " 20636  2.5568      18.0  6.114035   1.315789       356.0  3.122807     39.49   \n",
              " 20637  1.7000      17.0  5.205543   1.120092      1007.0  2.325635     39.43   \n",
              " 20638  1.8672      18.0  5.329513   1.171920       741.0  2.123209     39.43   \n",
              " 20639  2.3886      16.0  5.254717   1.162264      1387.0  2.616981     39.37   \n",
              " \n",
              "        Longitude  MedHouseVal  \n",
              " 0        -122.23        4.526  \n",
              " 1        -122.22        3.585  \n",
              " 2        -122.24        3.521  \n",
              " 3        -122.25        3.413  \n",
              " 4        -122.25        3.422  \n",
              " ...          ...          ...  \n",
              " 20635    -121.09        0.781  \n",
              " 20636    -121.21        0.771  \n",
              " 20637    -121.22        0.923  \n",
              " 20638    -121.32        0.847  \n",
              " 20639    -121.24        0.894  \n",
              " \n",
              " [20640 rows x 9 columns],\n",
              " 'target_names': ['MedHouseVal'],\n",
              " 'feature_names': ['MedInc',\n",
              "  'HouseAge',\n",
              "  'AveRooms',\n",
              "  'AveBedrms',\n",
              "  'Population',\n",
              "  'AveOccup',\n",
              "  'Latitude',\n",
              "  'Longitude'],\n",
              " 'DESCR': '.. _california_housing_dataset:\\n\\nCalifornia Housing dataset\\n--------------------------\\n\\n**Data Set Characteristics:**\\n\\n    :Number of Instances: 20640\\n\\n    :Number of Attributes: 8 numeric, predictive attributes and the target\\n\\n    :Attribute Information:\\n        - MedInc        median income in block\\n        - HouseAge      median house age in block\\n        - AveRooms      average number of rooms\\n        - AveBedrms     average number of bedrooms\\n        - Population    block population\\n        - AveOccup      average house occupancy\\n        - Latitude      house block latitude\\n        - Longitude     house block longitude\\n\\n    :Missing Attribute Values: None\\n\\nThis dataset was obtained from the StatLib repository.\\nhttp://lib.stat.cmu.edu/datasets/\\n\\nThe target variable is the median house value for California districts.\\n\\nThis dataset was derived from the 1990 U.S. census, using one row per census\\nblock group. A block group is the smallest geographical unit for which the U.S.\\nCensus Bureau publishes sample data (a block group typically has a population\\nof 600 to 3,000 people).\\n\\nIt can be downloaded/loaded using the\\n:func:`sklearn.datasets.fetch_california_housing` function.\\n\\n.. topic:: References\\n\\n    - Pace, R. Kelley and Ronald Barry, Sparse Spatial Autoregressions,\\n      Statistics and Probability Letters, 33 (1997) 291-297\\n'}"
            ]
          },
          "execution_count": 1,
          "metadata": {},
          "output_type": "execute_result"
        }
      ],
      "source": [
        "import pandas as pd\n",
        "from sklearn.datasets import fetch_california_housing\n",
        "california_housings = fetch_california_housing(as_frame=True)\n",
        "\n",
        "california_housings"
      ]
    },
    {
      "cell_type": "code",
      "execution_count": null,
      "id": "d591eb6d-a6f3-4560-b022-29d27f106280",
      "metadata": {
        "colab": {
          "base_uri": "https://localhost:8080/"
        },
        "id": "d591eb6d-a6f3-4560-b022-29d27f106280",
        "outputId": "407b216a-faa1-4b6d-abc8-e54553eddcf9"
      },
      "outputs": [
        {
          "name": "stdout",
          "output_type": "stream",
          "text": [
            ".. _california_housing_dataset:\n",
            "\n",
            "California Housing dataset\n",
            "--------------------------\n",
            "\n",
            "**Data Set Characteristics:**\n",
            "\n",
            "    :Number of Instances: 20640\n",
            "\n",
            "    :Number of Attributes: 8 numeric, predictive attributes and the target\n",
            "\n",
            "    :Attribute Information:\n",
            "        - MedInc        median income in block\n",
            "        - HouseAge      median house age in block\n",
            "        - AveRooms      average number of rooms\n",
            "        - AveBedrms     average number of bedrooms\n",
            "        - Population    block population\n",
            "        - AveOccup      average house occupancy\n",
            "        - Latitude      house block latitude\n",
            "        - Longitude     house block longitude\n",
            "\n",
            "    :Missing Attribute Values: None\n",
            "\n",
            "This dataset was obtained from the StatLib repository.\n",
            "http://lib.stat.cmu.edu/datasets/\n",
            "\n",
            "The target variable is the median house value for California districts.\n",
            "\n",
            "This dataset was derived from the 1990 U.S. census, using one row per census\n",
            "block group. A block group is the smallest geographical unit for which the U.S.\n",
            "Census Bureau publishes sample data (a block group typically has a population\n",
            "of 600 to 3,000 people).\n",
            "\n",
            "It can be downloaded/loaded using the\n",
            ":func:`sklearn.datasets.fetch_california_housing` function.\n",
            "\n",
            ".. topic:: References\n",
            "\n",
            "    - Pace, R. Kelley and Ronald Barry, Sparse Spatial Autoregressions,\n",
            "      Statistics and Probability Letters, 33 (1997) 291-297\n",
            "\n"
          ]
        }
      ],
      "source": [
        "print(california_housings.DESCR)"
      ]
    },
    {
      "cell_type": "code",
      "execution_count": null,
      "id": "08aa056b-b2ea-447b-9c60-5c1df4ecb41b",
      "metadata": {
        "colab": {
          "base_uri": "https://localhost:8080/",
          "height": 206
        },
        "id": "08aa056b-b2ea-447b-9c60-5c1df4ecb41b",
        "outputId": "45222259-4753-41be-c3b1-5937744872db"
      },
      "outputs": [
        {
          "data": {
            "text/html": [
              "<div>\n",
              "<style scoped>\n",
              "    .dataframe tbody tr th:only-of-type {\n",
              "        vertical-align: middle;\n",
              "    }\n",
              "\n",
              "    .dataframe tbody tr th {\n",
              "        vertical-align: top;\n",
              "    }\n",
              "\n",
              "    .dataframe thead th {\n",
              "        text-align: right;\n",
              "    }\n",
              "</style>\n",
              "<table border=\"1\" class=\"dataframe\">\n",
              "  <thead>\n",
              "    <tr style=\"text-align: right;\">\n",
              "      <th></th>\n",
              "      <th>MedInc</th>\n",
              "      <th>HouseAge</th>\n",
              "      <th>AveRooms</th>\n",
              "      <th>AveBedrms</th>\n",
              "      <th>Population</th>\n",
              "      <th>AveOccup</th>\n",
              "      <th>Latitude</th>\n",
              "      <th>Longitude</th>\n",
              "    </tr>\n",
              "  </thead>\n",
              "  <tbody>\n",
              "    <tr>\n",
              "      <th>0</th>\n",
              "      <td>8.3252</td>\n",
              "      <td>41.0</td>\n",
              "      <td>6.984127</td>\n",
              "      <td>1.023810</td>\n",
              "      <td>322.0</td>\n",
              "      <td>2.555556</td>\n",
              "      <td>37.88</td>\n",
              "      <td>-122.23</td>\n",
              "    </tr>\n",
              "    <tr>\n",
              "      <th>1</th>\n",
              "      <td>8.3014</td>\n",
              "      <td>21.0</td>\n",
              "      <td>6.238137</td>\n",
              "      <td>0.971880</td>\n",
              "      <td>2401.0</td>\n",
              "      <td>2.109842</td>\n",
              "      <td>37.86</td>\n",
              "      <td>-122.22</td>\n",
              "    </tr>\n",
              "    <tr>\n",
              "      <th>2</th>\n",
              "      <td>7.2574</td>\n",
              "      <td>52.0</td>\n",
              "      <td>8.288136</td>\n",
              "      <td>1.073446</td>\n",
              "      <td>496.0</td>\n",
              "      <td>2.802260</td>\n",
              "      <td>37.85</td>\n",
              "      <td>-122.24</td>\n",
              "    </tr>\n",
              "    <tr>\n",
              "      <th>3</th>\n",
              "      <td>5.6431</td>\n",
              "      <td>52.0</td>\n",
              "      <td>5.817352</td>\n",
              "      <td>1.073059</td>\n",
              "      <td>558.0</td>\n",
              "      <td>2.547945</td>\n",
              "      <td>37.85</td>\n",
              "      <td>-122.25</td>\n",
              "    </tr>\n",
              "    <tr>\n",
              "      <th>4</th>\n",
              "      <td>3.8462</td>\n",
              "      <td>52.0</td>\n",
              "      <td>6.281853</td>\n",
              "      <td>1.081081</td>\n",
              "      <td>565.0</td>\n",
              "      <td>2.181467</td>\n",
              "      <td>37.85</td>\n",
              "      <td>-122.25</td>\n",
              "    </tr>\n",
              "  </tbody>\n",
              "</table>\n",
              "</div>"
            ],
            "text/plain": [
              "   MedInc  HouseAge  AveRooms  AveBedrms  Population  AveOccup  Latitude  \\\n",
              "0  8.3252      41.0  6.984127   1.023810       322.0  2.555556     37.88   \n",
              "1  8.3014      21.0  6.238137   0.971880      2401.0  2.109842     37.86   \n",
              "2  7.2574      52.0  8.288136   1.073446       496.0  2.802260     37.85   \n",
              "3  5.6431      52.0  5.817352   1.073059       558.0  2.547945     37.85   \n",
              "4  3.8462      52.0  6.281853   1.081081       565.0  2.181467     37.85   \n",
              "\n",
              "   Longitude  \n",
              "0    -122.23  \n",
              "1    -122.22  \n",
              "2    -122.24  \n",
              "3    -122.25  \n",
              "4    -122.25  "
            ]
          },
          "execution_count": 3,
          "metadata": {},
          "output_type": "execute_result"
        }
      ],
      "source": [
        "c_housings_df = pd.DataFrame(california_housings.data, columns= california_housings.feature_names)\n",
        "c_housings_df.head()"
      ]
    },
    {
      "cell_type": "code",
      "execution_count": null,
      "id": "504a12cc-abf2-4489-9b48-b900891d7695",
      "metadata": {
        "colab": {
          "base_uri": "https://localhost:8080/"
        },
        "id": "504a12cc-abf2-4489-9b48-b900891d7695",
        "outputId": "987cc53d-0654-4248-d8b5-cec57c9d5122"
      },
      "outputs": [
        {
          "name": "stdout",
          "output_type": "stream",
          "text": [
            "<class 'pandas.core.frame.DataFrame'>\n",
            "RangeIndex: 20640 entries, 0 to 20639\n",
            "Data columns (total 8 columns):\n",
            " #   Column      Non-Null Count  Dtype  \n",
            "---  ------      --------------  -----  \n",
            " 0   MedInc      20640 non-null  float64\n",
            " 1   HouseAge    20640 non-null  float64\n",
            " 2   AveRooms    20640 non-null  float64\n",
            " 3   AveBedrms   20640 non-null  float64\n",
            " 4   Population  20640 non-null  float64\n",
            " 5   AveOccup    20640 non-null  float64\n",
            " 6   Latitude    20640 non-null  float64\n",
            " 7   Longitude   20640 non-null  float64\n",
            "dtypes: float64(8)\n",
            "memory usage: 1.3 MB\n"
          ]
        }
      ],
      "source": [
        "c_housings_df.info()"
      ]
    },
    {
      "cell_type": "markdown",
      "id": "2225faed-deca-430f-abfd-2880677e9417",
      "metadata": {
        "id": "2225faed-deca-430f-abfd-2880677e9417"
      },
      "source": [
        "#Variáveis a serem estudadas na base de dados\n",
        "\n",
        "- MedInc\n",
        "- AveBedrms\n",
        "- AveRoom\n",
        "\n",
        "Objetivo: Encontrar um padrão entre a média de casas com a variabilidade de quantidade ed quartos e quantidade de salas."
      ]
    },
    {
      "cell_type": "code",
      "execution_count": null,
      "id": "b0cbed80-cc10-4e2f-b490-9b23bfd4451e",
      "metadata": {
        "colab": {
          "base_uri": "https://localhost:8080/",
          "height": 300
        },
        "id": "b0cbed80-cc10-4e2f-b490-9b23bfd4451e",
        "outputId": "4fc32aa7-12d1-444c-f950-a943798b34ac"
      },
      "outputs": [
        {
          "data": {
            "text/html": [
              "<div>\n",
              "<style scoped>\n",
              "    .dataframe tbody tr th:only-of-type {\n",
              "        vertical-align: middle;\n",
              "    }\n",
              "\n",
              "    .dataframe tbody tr th {\n",
              "        vertical-align: top;\n",
              "    }\n",
              "\n",
              "    .dataframe thead th {\n",
              "        text-align: right;\n",
              "    }\n",
              "</style>\n",
              "<table border=\"1\" class=\"dataframe\">\n",
              "  <thead>\n",
              "    <tr style=\"text-align: right;\">\n",
              "      <th></th>\n",
              "      <th>MedInc</th>\n",
              "      <th>AveBedrms</th>\n",
              "      <th>AveRooms</th>\n",
              "    </tr>\n",
              "  </thead>\n",
              "  <tbody>\n",
              "    <tr>\n",
              "      <th>count</th>\n",
              "      <td>20640.000000</td>\n",
              "      <td>20640.000000</td>\n",
              "      <td>20640.000000</td>\n",
              "    </tr>\n",
              "    <tr>\n",
              "      <th>mean</th>\n",
              "      <td>3.870671</td>\n",
              "      <td>1.096675</td>\n",
              "      <td>5.429000</td>\n",
              "    </tr>\n",
              "    <tr>\n",
              "      <th>std</th>\n",
              "      <td>1.899822</td>\n",
              "      <td>0.473911</td>\n",
              "      <td>2.474173</td>\n",
              "    </tr>\n",
              "    <tr>\n",
              "      <th>min</th>\n",
              "      <td>0.499900</td>\n",
              "      <td>0.333333</td>\n",
              "      <td>0.846154</td>\n",
              "    </tr>\n",
              "    <tr>\n",
              "      <th>25%</th>\n",
              "      <td>2.563400</td>\n",
              "      <td>1.006079</td>\n",
              "      <td>4.440716</td>\n",
              "    </tr>\n",
              "    <tr>\n",
              "      <th>50%</th>\n",
              "      <td>3.534800</td>\n",
              "      <td>1.048780</td>\n",
              "      <td>5.229129</td>\n",
              "    </tr>\n",
              "    <tr>\n",
              "      <th>75%</th>\n",
              "      <td>4.743250</td>\n",
              "      <td>1.099526</td>\n",
              "      <td>6.052381</td>\n",
              "    </tr>\n",
              "    <tr>\n",
              "      <th>max</th>\n",
              "      <td>15.000100</td>\n",
              "      <td>34.066667</td>\n",
              "      <td>141.909091</td>\n",
              "    </tr>\n",
              "  </tbody>\n",
              "</table>\n",
              "</div>"
            ],
            "text/plain": [
              "             MedInc     AveBedrms      AveRooms\n",
              "count  20640.000000  20640.000000  20640.000000\n",
              "mean       3.870671      1.096675      5.429000\n",
              "std        1.899822      0.473911      2.474173\n",
              "min        0.499900      0.333333      0.846154\n",
              "25%        2.563400      1.006079      4.440716\n",
              "50%        3.534800      1.048780      5.229129\n",
              "75%        4.743250      1.099526      6.052381\n",
              "max       15.000100     34.066667    141.909091"
            ]
          },
          "execution_count": 5,
          "metadata": {},
          "output_type": "execute_result"
        }
      ],
      "source": [
        "#O tipo de dado que vem do sklearn no dataset é sklearn.utils.Bunch\n",
        "features_df = c_housings_df[['MedInc', 'AveBedrms','AveRooms']]\n",
        "features_df.describe()"
      ]
    },
    {
      "cell_type": "markdown",
      "id": "6c1f43f8-0bba-45b4-a70c-4607e88c1658",
      "metadata": {
        "id": "6c1f43f8-0bba-45b4-a70c-4607e88c1658"
      },
      "source": [
        "#Clusterizando os dados e Verificando K-Ideal através do Método de Elbow"
      ]
    },
    {
      "cell_type": "code",
      "execution_count": null,
      "id": "2de206eb-8463-46be-a0b8-89b60486d305",
      "metadata": {
        "id": "2de206eb-8463-46be-a0b8-89b60486d305"
      },
      "outputs": [],
      "source": [
        "from sklearn.cluster import KMeans\n",
        "kmeans = KMeans(init= 'k-means++',\n",
        "                n_clusters=25,\n",
        "                n_init=10,\n",
        "                max_iter=1000,\n",
        "                verbose = 2)"
      ]
    },
    {
      "cell_type": "code",
      "execution_count": null,
      "id": "53056d6e-58e5-44fd-8de9-74ea3e9f2f33",
      "metadata": {
        "colab": {
          "base_uri": "https://localhost:8080/"
        },
        "id": "53056d6e-58e5-44fd-8de9-74ea3e9f2f33",
        "outputId": "13bec517-7a12-450e-a65f-9ed32c89e33b"
      },
      "outputs": [
        {
          "name": "stdout",
          "output_type": "stream",
          "text": [
            "5: 50142.70977721283\n",
            "6: 40890.9118859072\n",
            "7: 32958.054547524756\n",
            "8: 28599.274030540815\n",
            "9: 24784.358022624125\n",
            "10: 21587.068913607833\n",
            "11: 19392.34929007308\n",
            "12: 17144.468230933053\n",
            "13: 15674.784333993257\n",
            "14: 14554.367291883465\n",
            "15: 13580.478506348965\n",
            "16: 12652.292396830951\n",
            "17: 11733.494718401102\n",
            "18: 11112.925354985453\n",
            "19: 10351.39401904147\n",
            "20: 9815.584653099468\n",
            "21: 9369.452269636831\n",
            "22: 9023.42321966234\n",
            "23: 8569.308423447892\n",
            "24: 8233.616968320619\n",
            "25: 7974.448122983843\n",
            "26: 7707.5245235491275\n",
            "27: 7397.894977839732\n",
            "28: 7151.1676255187085\n",
            "29: 6927.8370688281075\n",
            "30: 6726.5155000335135\n",
            "31: 6577.469650530225\n",
            "32: 6424.950571933442\n",
            "33: 6212.107441910759\n",
            "34: 6104.875525887203\n",
            "35: 5901.362343659112\n",
            "36: 5726.5421290545155\n",
            "37: 5591.453325225729\n",
            "38: 5446.343224058053\n",
            "39: 5335.023306599141\n",
            "40: 5190.728185625996\n",
            "41: 5105.480544098373\n",
            "42: 4974.521408975352\n",
            "43: 4889.210543651166\n",
            "44: 4807.677702916987\n",
            "45: 4719.197885735832\n",
            "46: 4556.583432284354\n",
            "47: 4482.385321889004\n",
            "48: 4410.998909550597\n",
            "49: 4271.783757414324\n"
          ]
        }
      ],
      "source": [
        "k_group = range(5,50)\n",
        "digits_inertia = []\n",
        "for k in k_group:\n",
        "  kmeans_k_clusters = KMeans(init=\"k-means++\", n_clusters=k, n_init=5).fit(features_df)\n",
        "  print(f\"{k}: {kmeans_k_clusters.inertia_}\")\n",
        "  digits_inertia.append(kmeans_k_clusters.inertia_)"
      ]
    },
    {
      "cell_type": "code",
      "execution_count": null,
      "id": "5fccb7bf-9ba1-4355-b970-3b1ba83631d4",
      "metadata": {
        "colab": {
          "base_uri": "https://localhost:8080/",
          "height": 483
        },
        "id": "5fccb7bf-9ba1-4355-b970-3b1ba83631d4",
        "outputId": "40988829-a5af-4271-b92f-f94560ed9d2b"
      },
      "outputs": [
        {
          "data": {
            "image/png": "[encoded data removed]",
            "text/plain": [
              "<Figure size 1440x576 with 1 Axes>"
            ]
          },
          "metadata": {
            "needs_background": "light"
          },
          "output_type": "display_data"
        }
      ],
      "source": [
        "import matplotlib.pyplot as plt\n",
        "%matplotlib inline\n",
        "plt.figure(figsize=(20,8))\n",
        "plt.plot(k_group, digits_inertia, marker= 'o')\n",
        "plt.show()\n"
      ]
    },
    {
      "cell_type": "code",
      "execution_count": null,
      "id": "5d417977-17e2-4e94-8298-17284393a1ca",
      "metadata": {
        "colab": {
          "base_uri": "https://localhost:8080/"
        },
        "id": "5d417977-17e2-4e94-8298-17284393a1ca",
        "outputId": "383e11f5-5521-43b7-be2c-ff2c084ef715"
      },
      "outputs": [
        {
          "name": "stdout",
          "output_type": "stream",
          "text": [
            "Initialization complete\n",
            "Iteration 0, inertia 10233.497610492102\n",
            "Iteration 1, inertia 8766.256126596007\n",
            "Iteration 2, inertia 8570.046801122773\n",
            "Iteration 3, inertia 8464.526509432424\n",
            "Iteration 4, inertia 8396.556908944945\n",
            "Iteration 5, inertia 8333.361212263955\n",
            "Iteration 6, inertia 8276.6816473842\n",
            "Iteration 7, inertia 8231.786222732257\n",
            "Iteration 8, inertia 8191.857483686684\n",
            "Iteration 9, inertia 8156.395298463794\n",
            "Iteration 10, inertia 8124.910791614985\n",
            "Iteration 11, inertia 8100.709441926276\n",
            "Iteration 12, inertia 8079.651163852629\n",
            "Iteration 13, inertia 8059.322894708635\n",
            "Iteration 14, inertia 8033.920538203318\n",
            "Iteration 15, inertia 8013.386226888787\n",
            "Iteration 16, inertia 7992.454146912511\n",
            "Iteration 17, inertia 7975.634779802214\n",
            "Iteration 18, inertia 7961.001968452375\n",
            "Iteration 19, inertia 7950.037701060199\n",
            "Iteration 20, inertia 7939.424033378288\n",
            "Iteration 21, inertia 7931.899123078462\n",
            "Iteration 22, inertia 7927.6369638425795\n",
            "Iteration 23, inertia 7924.09618756789\n",
            "Iteration 24, inertia 7920.959907721301\n",
            "Iteration 25, inertia 7918.525732105913\n",
            "Iteration 26, inertia 7916.702408838166\n",
            "Iteration 27, inertia 7915.3427561893905\n",
            "Iteration 28, inertia 7914.093436397223\n",
            "Iteration 29, inertia 7913.36614793694\n",
            "Converged at iteration 29: center shift 0.0003292938714207102 within tolerance 0.00033183214821586515.\n",
            "Initialization complete\n",
            "Iteration 0, inertia 11131.405422780324\n",
            "Iteration 1, inertia 9169.084053171578\n",
            "Iteration 2, inertia 8915.850065643892\n",
            "Iteration 3, inertia 8834.498406762976\n",
            "Iteration 4, inertia 8789.307050447736\n",
            "Iteration 5, inertia 8756.680632205818\n",
            "Iteration 6, inertia 8730.973676390333\n",
            "Iteration 7, inertia 8708.379834319405\n",
            "Iteration 8, inertia 8686.187559333379\n",
            "Iteration 9, inertia 8665.050257405312\n",
            "Iteration 10, inertia 8647.39299544637\n",
            "Iteration 11, inertia 8629.986675933906\n",
            "Iteration 12, inertia 8609.04707391922\n",
            "Iteration 13, inertia 8592.505730399293\n",
            "Iteration 14, inertia 8579.031724758583\n",
            "Iteration 15, inertia 8567.336004270626\n",
            "Iteration 16, inertia 8557.72641781534\n",
            "Iteration 17, inertia 8548.95714527146\n",
            "Iteration 18, inertia 8542.233906464371\n",
            "Iteration 19, inertia 8536.938939545367\n",
            "Iteration 20, inertia 8532.029258222281\n",
            "Iteration 21, inertia 8527.566563337017\n",
            "Iteration 22, inertia 8523.719131534748\n",
            "Iteration 23, inertia 8520.79001450247\n",
            "Iteration 24, inertia 8518.078986631072\n",
            "Iteration 25, inertia 8515.818157727801\n",
            "Iteration 26, inertia 8514.16282434211\n",
            "Iteration 27, inertia 8512.624300101752\n",
            "Iteration 28, inertia 8511.654139301967\n",
            "Iteration 29, inertia 8510.856151089003\n",
            "Converged at iteration 29: center shift 0.0003055409431899347 within tolerance 0.00033183214821586515.\n",
            "Initialization complete\n",
            "Iteration 0, inertia 10011.337319628654\n",
            "Iteration 1, inertia 8501.133420176091\n",
            "Iteration 2, inertia 8291.245049407136\n",
            "Iteration 3, inertia 8197.60513555793\n",
            "Iteration 4, inertia 8153.215634257636\n",
            "Iteration 5, inertia 8126.195747768702\n",
            "Iteration 6, inertia 8107.763324462511\n",
            "Iteration 7, inertia 8090.027026727482\n",
            "Iteration 8, inertia 8072.780790712889\n",
            "Iteration 9, inertia 8057.447141148641\n",
            "Iteration 10, inertia 8040.7547506223145\n",
            "Iteration 11, inertia 8028.6284655682675\n",
            "Iteration 12, inertia 8018.023821559781\n",
            "Iteration 13, inertia 8009.80335125086\n",
            "Iteration 14, inertia 8004.03565084406\n",
            "Iteration 15, inertia 7999.127073111938\n",
            "Iteration 16, inertia 7995.221710434643\n",
            "Iteration 17, inertia 7991.949595661189\n",
            "Iteration 18, inertia 7989.50122021228\n",
            "Iteration 19, inertia 7987.424535846035\n",
            "Iteration 20, inertia 7985.486092373092\n",
            "Iteration 21, inertia 7984.476596864684\n",
            "Converged at iteration 21: center shift 0.00031201055098435297 within tolerance 0.00033183214821586515.\n",
            "Initialization complete\n",
            "Iteration 0, inertia 9792.588923546566\n",
            "Iteration 1, inertia 8558.692552970397\n",
            "Iteration 2, inertia 8338.456293843054\n",
            "Iteration 3, inertia 8238.335718028362\n",
            "Iteration 4, inertia 8164.819094528385\n",
            "Iteration 5, inertia 8124.116926316947\n",
            "Iteration 6, inertia 8095.555319706948\n",
            "Iteration 7, inertia 8072.542577058479\n",
            "Iteration 8, inertia 8056.559602269541\n",
            "Iteration 9, inertia 8045.952545391235\n",
            "Iteration 10, inertia 8038.804542991552\n",
            "Iteration 11, inertia 8034.018817784496\n",
            "Iteration 12, inertia 8030.882137066884\n",
            "Iteration 13, inertia 8028.81823148279\n",
            "Iteration 14, inertia 8027.333308575637\n",
            "Iteration 15, inertia 8026.143490602301\n",
            "Iteration 16, inertia 8024.992876646114\n",
            "Iteration 17, inertia 8023.410132411581\n",
            "Iteration 18, inertia 8021.694012797889\n",
            "Iteration 19, inertia 8020.097955610568\n",
            "Iteration 20, inertia 8018.519158602805\n",
            "Iteration 21, inertia 8017.148607434457\n",
            "Iteration 22, inertia 8016.034490220887\n",
            "Iteration 23, inertia 8014.977493176135\n",
            "Iteration 24, inertia 8013.996736796764\n",
            "Iteration 25, inertia 8013.041782149976\n",
            "Iteration 26, inertia 8012.080850174486\n",
            "Iteration 27, inertia 8011.061328553778\n",
            "Iteration 28, inertia 8010.009642743625\n",
            "Iteration 29, inertia 8009.036685903055\n",
            "Iteration 30, inertia 8008.343687756317\n",
            "Converged at iteration 30: center shift 0.0003198343603601778 within tolerance 0.00033183214821586515.\n",
            "Initialization complete\n",
            "Iteration 0, inertia 10917.632513129902\n",
            "Iteration 1, inertia 8951.766124280311\n",
            "Iteration 2, inertia 8595.011980796928\n",
            "Iteration 3, inertia 8462.140709124944\n",
            "Iteration 4, inertia 8400.069047336243\n",
            "Iteration 5, inertia 8365.042798768314\n",
            "Iteration 6, inertia 8336.529631290503\n",
            "Iteration 7, inertia 8307.50482888249\n",
            "Iteration 8, inertia 8276.459993425113\n",
            "Iteration 9, inertia 8233.756327362906\n",
            "Iteration 10, inertia 8181.888103038797\n",
            "Iteration 11, inertia 8127.703987506914\n",
            "Iteration 12, inertia 8084.7545286011255\n",
            "Iteration 13, inertia 8055.716846531643\n",
            "Iteration 14, inertia 8038.863588102244\n",
            "Iteration 15, inertia 8028.70339016263\n",
            "Iteration 16, inertia 8023.346246130163\n",
            "Iteration 17, inertia 8019.3764977809715\n",
            "Iteration 18, inertia 8015.764789622586\n",
            "Iteration 19, inertia 8012.352523049931\n",
            "Iteration 20, inertia 8009.526681706031\n",
            "Iteration 21, inertia 8007.154225595838\n",
            "Iteration 22, inertia 8005.373479094743\n",
            "Iteration 23, inertia 8003.424634327692\n",
            "Iteration 24, inertia 8001.845878688347\n",
            "Iteration 25, inertia 8000.63546212116\n",
            "Iteration 26, inertia 7999.373069108523\n",
            "Iteration 27, inertia 7998.029660235419\n",
            "Iteration 28, inertia 7996.926982448777\n",
            "Iteration 29, inertia 7996.253791538846\n",
            "Converged at iteration 29: center shift 0.00018968718875803862 within tolerance 0.00033183214821586515.\n",
            "Initialization complete\n",
            "Iteration 0, inertia 10203.185543707787\n",
            "Iteration 1, inertia 8653.811352198114\n",
            "Iteration 2, inertia 8465.545822506849\n",
            "Iteration 3, inertia 8377.787930905271\n",
            "Iteration 4, inertia 8346.907502763386\n",
            "Iteration 5, inertia 8330.852080208913\n",
            "Iteration 6, inertia 8316.990271414561\n",
            "Iteration 7, inertia 8305.425362392862\n",
            "Iteration 8, inertia 8295.483440359605\n",
            "Iteration 9, inertia 8283.604926368396\n",
            "Iteration 10, inertia 8268.22023433838\n",
            "Iteration 11, inertia 8253.388598248845\n",
            "Iteration 12, inertia 8242.186048635598\n",
            "Iteration 13, inertia 8232.488695157086\n",
            "Iteration 14, inertia 8224.953555681452\n",
            "Iteration 15, inertia 8217.286939228365\n",
            "Iteration 16, inertia 8210.236004534754\n",
            "Iteration 17, inertia 8204.969477248576\n",
            "Iteration 18, inertia 8200.229864471416\n",
            "Iteration 19, inertia 8196.938784754055\n",
            "Iteration 20, inertia 8193.962894446358\n",
            "Iteration 21, inertia 8191.123569488473\n",
            "Iteration 22, inertia 8189.002503749408\n",
            "Iteration 23, inertia 8187.258634701619\n",
            "Iteration 24, inertia 8185.772375744494\n",
            "Iteration 25, inertia 8184.358225192131\n",
            "Iteration 26, inertia 8182.942331644732\n",
            "Iteration 27, inertia 8181.920221235166\n",
            "Iteration 28, inertia 8180.854519276682\n",
            "Iteration 29, inertia 8179.920842300503\n",
            "Converged at iteration 29: center shift 0.00027057594944270957 within tolerance 0.00033183214821586515.\n",
            "Initialization complete\n",
            "Iteration 0, inertia 10465.117455883292\n",
            "Iteration 1, inertia 8580.762321404407\n",
            "Iteration 2, inertia 8304.24002570759\n",
            "Iteration 3, inertia 8231.007406500214\n",
            "Iteration 4, inertia 8196.266932302082\n",
            "Iteration 5, inertia 8173.171420889211\n",
            "Iteration 6, inertia 8152.0337262053845\n",
            "Iteration 7, inertia 8132.972767426141\n",
            "Iteration 8, inertia 8112.032990800514\n",
            "Iteration 9, inertia 8095.651615848112\n",
            "Iteration 10, inertia 8084.629657445578\n",
            "Iteration 11, inertia 8076.765978697978\n",
            "Iteration 12, inertia 8069.5779099029405\n",
            "Iteration 13, inertia 8063.288366130026\n",
            "Iteration 14, inertia 8058.153807022838\n",
            "Iteration 15, inertia 8053.855755104277\n",
            "Iteration 16, inertia 8050.43259578961\n",
            "Iteration 17, inertia 8046.65276635446\n",
            "Iteration 18, inertia 8042.196847248688\n",
            "Iteration 19, inertia 8037.705543804291\n",
            "Iteration 20, inertia 8032.659673674809\n",
            "Iteration 21, inertia 8027.538178641401\n",
            "Iteration 22, inertia 8022.612670501296\n",
            "Iteration 23, inertia 8017.972373332657\n",
            "Iteration 24, inertia 8013.866117785293\n",
            "Iteration 25, inertia 8010.013969995992\n",
            "Iteration 26, inertia 8006.920296359958\n",
            "Iteration 27, inertia 8004.278663708546\n",
            "Iteration 28, inertia 8001.961094848117\n",
            "Iteration 29, inertia 7999.4382845069795\n",
            "Iteration 30, inertia 7997.213647154931\n",
            "Iteration 31, inertia 7995.058539958391\n",
            "Iteration 32, inertia 7992.831180985937\n",
            "Iteration 33, inertia 7990.193958849239\n",
            "Iteration 34, inertia 7987.448701138547\n",
            "Iteration 35, inertia 7983.896658231828\n",
            "Iteration 36, inertia 7979.817533940375\n",
            "Iteration 37, inertia 7975.898772688891\n",
            "Iteration 38, inertia 7972.951896293911\n",
            "Iteration 39, inertia 7970.1819513893\n"
          ]
        },
        {
          "name": "stdout",
          "output_type": "stream",
          "text": [
            "Iteration 40, inertia 7967.243465124955\n",
            "Iteration 41, inertia 7964.445668781562\n",
            "Iteration 42, inertia 7961.328948829509\n",
            "Iteration 43, inertia 7958.678658204107\n",
            "Iteration 44, inertia 7956.186220408039\n",
            "Iteration 45, inertia 7954.437529982346\n",
            "Iteration 46, inertia 7952.838458261075\n",
            "Iteration 47, inertia 7951.476038130288\n",
            "Iteration 48, inertia 7950.51314979022\n",
            "Iteration 49, inertia 7949.750656767462\n",
            "Converged at iteration 49: center shift 0.00029940076536651925 within tolerance 0.00033183214821586515.\n",
            "Initialization complete\n",
            "Iteration 0, inertia 10323.512032826311\n",
            "Iteration 1, inertia 8899.50083891231\n",
            "Iteration 2, inertia 8713.10556648317\n",
            "Iteration 3, inertia 8564.246280156807\n",
            "Iteration 4, inertia 8443.835523780614\n",
            "Iteration 5, inertia 8372.551879622582\n",
            "Iteration 6, inertia 8321.641598238542\n",
            "Iteration 7, inertia 8281.81109570806\n",
            "Iteration 8, inertia 8252.442408043435\n",
            "Iteration 9, inertia 8229.598330240044\n",
            "Iteration 10, inertia 8210.169240944731\n",
            "Iteration 11, inertia 8193.626207531932\n",
            "Iteration 12, inertia 8179.286356723641\n",
            "Iteration 13, inertia 8166.925084813902\n",
            "Iteration 14, inertia 8156.8476834855155\n",
            "Iteration 15, inertia 8146.875423425861\n",
            "Iteration 16, inertia 8134.873808790109\n",
            "Iteration 17, inertia 8121.165463239446\n",
            "Iteration 18, inertia 8108.394642381219\n",
            "Iteration 19, inertia 8096.874930655175\n",
            "Iteration 20, inertia 8086.476505599124\n",
            "Iteration 21, inertia 8079.418044120235\n",
            "Iteration 22, inertia 8073.061954772175\n",
            "Iteration 23, inertia 8067.816060223321\n",
            "Iteration 24, inertia 8061.927502321017\n",
            "Iteration 25, inertia 8057.55142755586\n",
            "Iteration 26, inertia 8054.6291573680455\n",
            "Iteration 27, inertia 8052.124670932988\n",
            "Iteration 28, inertia 8048.223428087599\n",
            "Iteration 29, inertia 8042.154639589539\n",
            "Iteration 30, inertia 8037.737930729492\n",
            "Iteration 31, inertia 8034.287127192114\n",
            "Iteration 32, inertia 8030.222104853459\n",
            "Iteration 33, inertia 8025.1220328053805\n",
            "Iteration 34, inertia 8019.343287800669\n",
            "Iteration 35, inertia 8011.691078696461\n",
            "Iteration 36, inertia 8003.838606504503\n",
            "Iteration 37, inertia 7996.324880723578\n",
            "Iteration 38, inertia 7988.476362813477\n",
            "Iteration 39, inertia 7979.560419962181\n",
            "Iteration 40, inertia 7974.075821732702\n",
            "Iteration 41, inertia 7969.276564019837\n",
            "Iteration 42, inertia 7965.536011671578\n",
            "Iteration 43, inertia 7962.770469945465\n",
            "Iteration 44, inertia 7961.046109757031\n",
            "Iteration 45, inertia 7959.376196034384\n",
            "Iteration 46, inertia 7957.107190096093\n",
            "Iteration 47, inertia 7955.234608802308\n",
            "Iteration 48, inertia 7954.181975869345\n",
            "Iteration 49, inertia 7953.163956360107\n",
            "Iteration 50, inertia 7952.548559252525\n",
            "Iteration 51, inertia 7951.952353101259\n",
            "Iteration 52, inertia 7951.352805729272\n",
            "Iteration 53, inertia 7950.869606302223\n",
            "Iteration 54, inertia 7950.508102553281\n",
            "Converged at iteration 54: center shift 0.00011368078739789672 within tolerance 0.00033183214821586515.\n",
            "Initialization complete\n",
            "Iteration 0, inertia 9996.691762830902\n",
            "Iteration 1, inertia 8841.018069985403\n",
            "Iteration 2, inertia 8668.247184589456\n",
            "Iteration 3, inertia 8601.655024394193\n",
            "Iteration 4, inertia 8562.713908207037\n",
            "Iteration 5, inertia 8533.741326350586\n",
            "Iteration 6, inertia 8487.73767327026\n",
            "Iteration 7, inertia 8417.865427434865\n",
            "Iteration 8, inertia 8350.25187114733\n",
            "Iteration 9, inertia 8304.669825657846\n",
            "Iteration 10, inertia 8270.554790537362\n",
            "Iteration 11, inertia 8243.328537316602\n",
            "Iteration 12, inertia 8223.332734628993\n",
            "Iteration 13, inertia 8209.400248648095\n",
            "Iteration 14, inertia 8196.64236748278\n",
            "Iteration 15, inertia 8184.620059954044\n",
            "Iteration 16, inertia 8174.098482771107\n",
            "Iteration 17, inertia 8165.514043225524\n",
            "Iteration 18, inertia 8158.350803386879\n",
            "Iteration 19, inertia 8152.502112084732\n",
            "Iteration 20, inertia 8146.259522621544\n",
            "Iteration 21, inertia 8142.530115154897\n",
            "Iteration 22, inertia 8139.710756953209\n",
            "Iteration 23, inertia 8136.435667751314\n",
            "Iteration 24, inertia 8133.573725522487\n",
            "Iteration 25, inertia 8130.6755621586135\n",
            "Iteration 26, inertia 8127.872530759251\n",
            "Iteration 27, inertia 8125.366029936633\n",
            "Iteration 28, inertia 8123.488021068559\n",
            "Iteration 29, inertia 8121.29267803784\n",
            "Iteration 30, inertia 8119.508845828899\n",
            "Iteration 31, inertia 8118.09341646323\n",
            "Iteration 32, inertia 8117.365716524959\n",
            "Converged at iteration 32: center shift 0.00031512782920566215 within tolerance 0.00033183214821586515.\n",
            "Initialization complete\n",
            "Iteration 0, inertia 10307.115430449046\n",
            "Iteration 1, inertia 8835.794105821888\n",
            "Iteration 2, inertia 8591.785259697386\n",
            "Iteration 3, inertia 8456.29165776172\n",
            "Iteration 4, inertia 8369.07916895439\n",
            "Iteration 5, inertia 8302.938891505079\n",
            "Iteration 6, inertia 8262.390802680731\n",
            "Iteration 7, inertia 8241.253350712503\n",
            "Iteration 8, inertia 8230.242051673456\n",
            "Iteration 9, inertia 8224.714659672254\n",
            "Iteration 10, inertia 8220.924160127348\n",
            "Iteration 11, inertia 8218.362757324345\n",
            "Iteration 12, inertia 8216.539755012933\n",
            "Iteration 13, inertia 8214.779048505015\n",
            "Iteration 14, inertia 8213.448454683956\n",
            "Iteration 15, inertia 8212.591130272393\n",
            "Iteration 16, inertia 8211.770549682265\n",
            "Iteration 17, inertia 8211.162434032982\n",
            "Iteration 18, inertia 8210.826233919252\n",
            "Converged at iteration 18: center shift 0.00014918467908107725 within tolerance 0.00033183214821586515.\n"
          ]
        },
        {
          "data": {
            "text/plain": [
              "KMeans(max_iter=1000, n_clusters=25, verbose=2)"
            ]
          },
          "execution_count": 9,
          "metadata": {},
          "output_type": "execute_result"
        }
      ],
      "source": [
        "kmeans.fit(features_df)"
      ]
    },
    {
      "cell_type": "code",
      "execution_count": null,
      "id": "bdad0bbd-960e-428a-9e3a-bd351de77cf8",
      "metadata": {
        "colab": {
          "base_uri": "https://localhost:8080/"
        },
        "id": "bdad0bbd-960e-428a-9e3a-bd351de77cf8",
        "outputId": "4febaf62-95ca-45c1-df70-a53445eb78de"
      },
      "outputs": [
        {
          "data": {
            "text/plain": [
              "7912.786246739491"
            ]
          },
          "execution_count": 10,
          "metadata": {},
          "output_type": "execute_result"
        }
      ],
      "source": [
        "kmeans.inertia_"
      ]
    },
    {
      "cell_type": "markdown",
      "id": "e20dd2a3-5222-4864-93be-f9b0e85c0cb2",
      "metadata": {
        "id": "e20dd2a3-5222-4864-93be-f9b0e85c0cb2"
      },
      "source": [
        "Análisando os 43 grupos utilizando k-means na base do california housing que todas as execuções do algoritmo convergiram com um número menor do que 40. A rodada com maior números de iterações teve 33.\n",
        "\n",
        "Devido ao baixo número de interações, podemos entender que as nossas regiões de fronteira estão bem definidas\n",
        "\n",
        "Inercía - 7926.227236060893"
      ]
    },
    {
      "cell_type": "code",
      "execution_count": null,
      "id": "808ff638-88c8-40d5-9416-9e5ecad5d065",
      "metadata": {
        "colab": {
          "base_uri": "https://localhost:8080/"
        },
        "id": "808ff638-88c8-40d5-9416-9e5ecad5d065",
        "outputId": "df83fad0-ebbd-4eb2-8366-469819572e81"
      },
      "outputs": [
        {
          "name": "stdout",
          "output_type": "stream",
          "text": [
            "(20640,)\n",
            "[ 3  3  7 16 14  8  8  4 11  8 18  4 18 21 11 11 18 11 22 18 11 11 22 22\n",
            " 18  4  4 22 11 11 22 22 22 22  4 11 11 11  4 21 11 11 11  8  4  4 11 11\n",
            " 11 10]\n"
          ]
        }
      ],
      "source": [
        "print(kmeans.labels_.shape)\n",
        "print(kmeans.labels_[:50])"
      ]
    },
    {
      "cell_type": "code",
      "execution_count": null,
      "id": "f8b75fd7-a6c3-4796-ba9e-41b78028e302",
      "metadata": {
        "colab": {
          "base_uri": "https://localhost:8080/"
        },
        "id": "f8b75fd7-a6c3-4796-ba9e-41b78028e302",
        "outputId": "48a7fbb3-8279-4657-ea58-92ee574884c9"
      },
      "outputs": [
        {
          "name": "stdout",
          "output_type": "stream",
          "text": [
            "Iterações:  30 \n",
            "\n",
            "Inércia: 7912.786246739491 \n",
            "\n",
            "Centro dos clusters: \n",
            "\n",
            " [[  2.6525297    1.38418107   6.86629454]\n",
            " [  5.13425748   1.05322349   6.49476503]\n",
            " [  3.0901375   11.53717536  55.5338291 ]\n",
            " [  7.97347697   1.01281485   6.70372971]\n",
            " [  2.9278692    1.05176167   4.5749618 ]\n",
            " [  3.92245818   2.91758508  14.72626695]\n",
            " [  3.25        29.85151515 137.22121212]\n",
            " [  7.8172839    1.09428034   8.1645004 ]\n",
            " [  3.9007605    1.03722203   5.16911034]\n",
            " [  3.20015      7.5701203   36.11203645]\n",
            " [  1.69305664   1.04647011   2.88496734]\n",
            " [  1.75859271   1.0731458    4.18343966]\n",
            " [  3.3208953    2.02359764   9.86455706]\n",
            " [  3.81182692   5.00031619  26.31650609]\n",
            " [  4.12862369   1.06823098   6.06406277]\n",
            " [  6.33871888   1.0550678    7.23453723]\n",
            " [  6.16576073   1.01315843   5.98905408]\n",
            " [  3.89130278   4.18123821  20.04960937]\n",
            " [  3.0373324    1.08080819   5.53433525]\n",
            " [  3.90081958   1.03321629   4.25162285]\n",
            " [ 14.090155     1.04305858   8.58320512]\n",
            " [  2.72712089   1.04694478   3.68410372]\n",
            " [  2.02752678   1.12097722   5.21605185]\n",
            " [ 10.48102351   1.04019036   7.87490023]\n",
            " [  4.99035767   1.01949379   5.2949201 ]]\n"
          ]
        }
      ],
      "source": [
        "print(f'Iterações:  {kmeans.n_iter_} ')\n",
        "print(f'\\nInércia: {kmeans.inertia_} ')\n",
        "print(f'\\nCentro dos clusters: \\n\\n {kmeans.cluster_centers_}')"
      ]
    },
    {
      "cell_type": "markdown",
      "id": "7936d269-9c85-426d-980c-932e657aa7ae",
      "metadata": {
        "id": "7936d269-9c85-426d-980c-932e657aa7ae"
      },
      "source": [
        "#Aglomeração hierarquica explorando dois níveis de hierarquia"
      ]
    },
    {
      "cell_type": "code",
      "execution_count": null,
      "id": "a6ad1248-78fe-4b39-aa8e-a898f0ba0fb7",
      "metadata": {
        "colab": {
          "base_uri": "https://localhost:8080/",
          "height": 451
        },
        "id": "a6ad1248-78fe-4b39-aa8e-a898f0ba0fb7",
        "outputId": "edf6fb69-7a23-459b-a24c-fe612873d702"
      },
      "outputs": [
        {
          "data": {
            "image/png": "[encoded data removed]",
            "text/plain": [
              "<Figure size 720x504 with 1 Axes>"
            ]
          },
          "metadata": {
            "needs_background": "light"
          },
          "output_type": "display_data"
        }
      ],
      "source": [
        "import matplotlib.pyplot as plt\n",
        "import scipy.cluster.hierarchy as shc\n",
        "\n",
        "plt.figure(figsize=(10, 7))\n",
        "plt.title(\"Hierarquia do cluster\")\n",
        "dend = shc.dendrogram(shc.linkage(features_df, method='ward'))"
      ]
    },
    {
      "cell_type": "code",
      "execution_count": null,
      "id": "SrptHfos2qVK",
      "metadata": {
        "colab": {
          "base_uri": "https://localhost:8080/",
          "height": 455
        },
        "id": "SrptHfos2qVK",
        "outputId": "9a22c30b-3426-4840-d2c5-204532241453"
      },
      "outputs": [
        {
          "data": {
            "image/png": "[encoded data removed]",
            "text/plain": [
              "<Figure size 720x504 with 1 Axes>"
            ]
          },
          "metadata": {
            "needs_background": "light"
          },
          "output_type": "display_data"
        }
      ],
      "source": [
        "#Gerando o dendrograma com menos níveis\n",
        "plt.figure(figsize=(10, 7))\n",
        "plt.title(\"Hierarquia do cluster\")\n",
        "dend = shc.dendrogram(shc.linkage(features_df, method='ward'), truncate_mode='level', p=5)"
      ]
    },
    {
      "cell_type": "code",
      "execution_count": null,
      "id": "eac67816-599c-4f90-8e03-ce0150676f48",
      "metadata": {
        "colab": {
          "base_uri": "https://localhost:8080/"
        },
        "id": "eac67816-599c-4f90-8e03-ce0150676f48",
        "outputId": "d272710f-96d2-477e-caf1-29b74d594ef4"
      },
      "outputs": [
        {
          "data": {
            "text/plain": [
              "array([0, 0, 0, 1, 1, 1, 1, 1, 1, 1, 1, 1, 1, 1, 1, 1, 1, 1, 1, 1, 1, 1,\n",
              "       1, 1, 1, 1, 1, 1, 1, 1, 1, 1, 1, 1, 1, 1, 1, 1, 1, 1, 1, 1, 1, 1,\n",
              "       1, 1, 1, 1, 1, 1, 1, 1, 1, 1, 1, 1, 1, 1, 1, 1, 1, 1, 1, 1, 1, 1,\n",
              "       1, 1, 1, 1, 1, 1, 1, 1, 1, 1, 1, 1, 1, 1, 1, 1, 1, 1, 1, 1, 1, 1,\n",
              "       1, 1, 1, 1, 1, 1, 1, 1, 1, 1, 1, 1], dtype=int64)"
            ]
          },
          "execution_count": 15,
          "metadata": {},
          "output_type": "execute_result"
        }
      ],
      "source": [
        "#Executando o cluster aglomerativo para Nível 1 - 2 Grupos\n",
        "from sklearn.cluster import AgglomerativeClustering\n",
        "cluster = AgglomerativeClustering(n_clusters=2, affinity='euclidean', linkage='ward')\n",
        "cluster.fit_predict(features_df)\n",
        "cluster.labels_[0:100]"
      ]
    },
    {
      "cell_type": "code",
      "execution_count": null,
      "id": "fef27eb0-3ee2-4543-bd2a-75c7f1df4a59",
      "metadata": {
        "colab": {
          "base_uri": "https://localhost:8080/",
          "height": 300
        },
        "id": "fef27eb0-3ee2-4543-bd2a-75c7f1df4a59",
        "outputId": "420bb92c-d967-4aaa-e59b-13bd0365a4cd"
      },
      "outputs": [
        {
          "data": {
            "text/html": [
              "<div>\n",
              "<style scoped>\n",
              "    .dataframe tbody tr th:only-of-type {\n",
              "        vertical-align: middle;\n",
              "    }\n",
              "\n",
              "    .dataframe tbody tr th {\n",
              "        vertical-align: top;\n",
              "    }\n",
              "\n",
              "    .dataframe thead th {\n",
              "        text-align: right;\n",
              "    }\n",
              "</style>\n",
              "<table border=\"1\" class=\"dataframe\">\n",
              "  <thead>\n",
              "    <tr style=\"text-align: right;\">\n",
              "      <th></th>\n",
              "      <th>MedInc</th>\n",
              "      <th>AveBedrms</th>\n",
              "      <th>AveRooms</th>\n",
              "    </tr>\n",
              "  </thead>\n",
              "  <tbody>\n",
              "    <tr>\n",
              "      <th>count</th>\n",
              "      <td>3284.000000</td>\n",
              "      <td>3284.000000</td>\n",
              "      <td>3284.000000</td>\n",
              "    </tr>\n",
              "    <tr>\n",
              "      <th>mean</th>\n",
              "      <td>6.966062</td>\n",
              "      <td>1.206179</td>\n",
              "      <td>7.772235</td>\n",
              "    </tr>\n",
              "    <tr>\n",
              "      <th>std</th>\n",
              "      <td>2.061697</td>\n",
              "      <td>1.126108</td>\n",
              "      <td>5.070114</td>\n",
              "    </tr>\n",
              "    <tr>\n",
              "      <th>min</th>\n",
              "      <td>0.499900</td>\n",
              "      <td>0.600000</td>\n",
              "      <td>3.166667</td>\n",
              "    </tr>\n",
              "    <tr>\n",
              "      <th>25%</th>\n",
              "      <td>5.648425</td>\n",
              "      <td>0.995556</td>\n",
              "      <td>6.445902</td>\n",
              "    </tr>\n",
              "    <tr>\n",
              "      <th>50%</th>\n",
              "      <td>6.466400</td>\n",
              "      <td>1.030779</td>\n",
              "      <td>6.956630</td>\n",
              "    </tr>\n",
              "    <tr>\n",
              "      <th>75%</th>\n",
              "      <td>7.719800</td>\n",
              "      <td>1.077653</td>\n",
              "      <td>7.610480</td>\n",
              "    </tr>\n",
              "    <tr>\n",
              "      <th>max</th>\n",
              "      <td>15.000100</td>\n",
              "      <td>34.066667</td>\n",
              "      <td>141.909091</td>\n",
              "    </tr>\n",
              "  </tbody>\n",
              "</table>\n",
              "</div>"
            ],
            "text/plain": [
              "            MedInc    AveBedrms     AveRooms\n",
              "count  3284.000000  3284.000000  3284.000000\n",
              "mean      6.966062     1.206179     7.772235\n",
              "std       2.061697     1.126108     5.070114\n",
              "min       0.499900     0.600000     3.166667\n",
              "25%       5.648425     0.995556     6.445902\n",
              "50%       6.466400     1.030779     6.956630\n",
              "75%       7.719800     1.077653     7.610480\n",
              "max      15.000100    34.066667   141.909091"
            ]
          },
          "execution_count": 16,
          "metadata": {},
          "output_type": "execute_result"
        }
      ],
      "source": [
        "#Verificando como ficou o agrupamento para o cluster \n",
        "data_clustered = features_df[cluster.labels_ == 0]\n",
        "data_clustered.describe()"
      ]
    },
    {
      "cell_type": "code",
      "execution_count": null,
      "id": "9b71eed5-c2e0-40f9-8652-5c8f4cd5abcf",
      "metadata": {
        "colab": {
          "base_uri": "https://localhost:8080/",
          "height": 300
        },
        "id": "9b71eed5-c2e0-40f9-8652-5c8f4cd5abcf",
        "outputId": "02329b78-017c-470f-f568-73c053a5034a"
      },
      "outputs": [
        {
          "data": {
            "text/html": [
              "<div>\n",
              "<style scoped>\n",
              "    .dataframe tbody tr th:only-of-type {\n",
              "        vertical-align: middle;\n",
              "    }\n",
              "\n",
              "    .dataframe tbody tr th {\n",
              "        vertical-align: top;\n",
              "    }\n",
              "\n",
              "    .dataframe thead th {\n",
              "        text-align: right;\n",
              "    }\n",
              "</style>\n",
              "<table border=\"1\" class=\"dataframe\">\n",
              "  <thead>\n",
              "    <tr style=\"text-align: right;\">\n",
              "      <th></th>\n",
              "      <th>MedInc</th>\n",
              "      <th>AveBedrms</th>\n",
              "      <th>AveRooms</th>\n",
              "    </tr>\n",
              "  </thead>\n",
              "  <tbody>\n",
              "    <tr>\n",
              "      <th>count</th>\n",
              "      <td>17356.000000</td>\n",
              "      <td>17356.000000</td>\n",
              "      <td>17356.000000</td>\n",
              "    </tr>\n",
              "    <tr>\n",
              "      <th>mean</th>\n",
              "      <td>3.284979</td>\n",
              "      <td>1.075956</td>\n",
              "      <td>4.985627</td>\n",
              "    </tr>\n",
              "    <tr>\n",
              "      <th>std</th>\n",
              "      <td>1.154175</td>\n",
              "      <td>0.156540</td>\n",
              "      <td>1.086993</td>\n",
              "    </tr>\n",
              "    <tr>\n",
              "      <th>min</th>\n",
              "      <td>0.499900</td>\n",
              "      <td>0.333333</td>\n",
              "      <td>0.846154</td>\n",
              "    </tr>\n",
              "    <tr>\n",
              "      <th>25%</th>\n",
              "      <td>2.398075</td>\n",
              "      <td>1.008538</td>\n",
              "      <td>4.304965</td>\n",
              "    </tr>\n",
              "    <tr>\n",
              "      <th>50%</th>\n",
              "      <td>3.212150</td>\n",
              "      <td>1.052492</td>\n",
              "      <td>4.996480</td>\n",
              "    </tr>\n",
              "    <tr>\n",
              "      <th>75%</th>\n",
              "      <td>4.107100</td>\n",
              "      <td>1.102889</td>\n",
              "      <td>5.626363</td>\n",
              "    </tr>\n",
              "    <tr>\n",
              "      <th>max</th>\n",
              "      <td>8.000000</td>\n",
              "      <td>3.500000</td>\n",
              "      <td>14.000000</td>\n",
              "    </tr>\n",
              "  </tbody>\n",
              "</table>\n",
              "</div>"
            ],
            "text/plain": [
              "             MedInc     AveBedrms      AveRooms\n",
              "count  17356.000000  17356.000000  17356.000000\n",
              "mean       3.284979      1.075956      4.985627\n",
              "std        1.154175      0.156540      1.086993\n",
              "min        0.499900      0.333333      0.846154\n",
              "25%        2.398075      1.008538      4.304965\n",
              "50%        3.212150      1.052492      4.996480\n",
              "75%        4.107100      1.102889      5.626363\n",
              "max        8.000000      3.500000     14.000000"
            ]
          },
          "execution_count": 17,
          "metadata": {},
          "output_type": "execute_result"
        }
      ],
      "source": [
        "data_from_cluster = features_df[cluster.labels_ == 1]\n",
        "data_from_cluster.describe()"
      ]
    },
    {
      "cell_type": "markdown",
      "id": "ae32d2fb-4dc0-4f36-8b9e-502cbeb39469",
      "metadata": {
        "id": "ae32d2fb-4dc0-4f36-8b9e-502cbeb39469"
      },
      "source": [
        "**Para aglomeração hierarquica no nível 1:\n",
        "Podemos perceber que há uma diferença expressiva no desvio padrão dos dois agrupamentos. Como também em suas médias, não causando tanto impacto a média de quartos.**\n",
        "\n",
        "---\n",
        "**Aglomeração Hierarquica no nível 2:**\n"
      ]
    },
    {
      "cell_type": "code",
      "execution_count": null,
      "id": "6851b67f-90c5-4f3e-80de-f5e19e6a2259",
      "metadata": {
        "colab": {
          "base_uri": "https://localhost:8080/"
        },
        "id": "6851b67f-90c5-4f3e-80de-f5e19e6a2259",
        "outputId": "239cca46-4346-487b-d7dd-e97a277d61d1"
      },
      "outputs": [
        {
          "data": {
            "text/plain": [
              "array([2, 2, 2, 1, 1, 1, 1, 1, 1, 1, 1, 1, 1, 1, 1, 1, 1, 1, 1, 1, 1, 1,\n",
              "       1, 1, 1, 1, 1, 1, 1, 1, 1, 1, 1, 1, 1, 1, 1, 1, 1, 1, 1, 1, 1, 1,\n",
              "       1, 1, 1, 1, 1, 1, 1, 1, 1, 1, 1, 1, 1, 1, 1, 1, 1, 1, 1, 1, 1, 1,\n",
              "       1, 1, 1, 1, 1, 1, 1, 1, 1, 1, 1, 1, 1, 1, 1, 1, 1, 1, 1, 1, 1, 1,\n",
              "       1, 1, 1, 1, 1, 1, 1, 1, 1, 1, 1, 1], dtype=int64)"
            ]
          },
          "execution_count": 18,
          "metadata": {},
          "output_type": "execute_result"
        }
      ],
      "source": [
        "from sklearn.cluster import AgglomerativeClustering\n",
        "cluster = AgglomerativeClustering(n_clusters=3, affinity='euclidean', linkage='ward')\n",
        "cluster.fit_predict(features_df)\n",
        "cluster.labels_[0:100]"
      ]
    },
    {
      "cell_type": "code",
      "execution_count": null,
      "id": "1c0a5807-0966-4a8e-a729-9615a2784918",
      "metadata": {
        "colab": {
          "base_uri": "https://localhost:8080/",
          "height": 300
        },
        "id": "1c0a5807-0966-4a8e-a729-9615a2784918",
        "outputId": "f19a4d33-e6f4-484c-95e6-adfd50fe9e99"
      },
      "outputs": [
        {
          "data": {
            "text/html": [
              "<div>\n",
              "<style scoped>\n",
              "    .dataframe tbody tr th:only-of-type {\n",
              "        vertical-align: middle;\n",
              "    }\n",
              "\n",
              "    .dataframe tbody tr th {\n",
              "        vertical-align: top;\n",
              "    }\n",
              "\n",
              "    .dataframe thead th {\n",
              "        text-align: right;\n",
              "    }\n",
              "</style>\n",
              "<table border=\"1\" class=\"dataframe\">\n",
              "  <thead>\n",
              "    <tr style=\"text-align: right;\">\n",
              "      <th></th>\n",
              "      <th>MedInc</th>\n",
              "      <th>AveBedrms</th>\n",
              "      <th>AveRooms</th>\n",
              "    </tr>\n",
              "  </thead>\n",
              "  <tbody>\n",
              "    <tr>\n",
              "      <th>count</th>\n",
              "      <td>125.000000</td>\n",
              "      <td>125.000000</td>\n",
              "      <td>125.000000</td>\n",
              "    </tr>\n",
              "    <tr>\n",
              "      <th>mean</th>\n",
              "      <td>3.726971</td>\n",
              "      <td>5.252414</td>\n",
              "      <td>25.839292</td>\n",
              "    </tr>\n",
              "    <tr>\n",
              "      <th>std</th>\n",
              "      <td>1.745624</td>\n",
              "      <td>4.004995</td>\n",
              "      <td>17.835720</td>\n",
              "    </tr>\n",
              "    <tr>\n",
              "      <th>min</th>\n",
              "      <td>0.499900</td>\n",
              "      <td>1.750000</td>\n",
              "      <td>12.774709</td>\n",
              "    </tr>\n",
              "    <tr>\n",
              "      <th>25%</th>\n",
              "      <td>2.712000</td>\n",
              "      <td>3.169935</td>\n",
              "      <td>16.788462</td>\n",
              "    </tr>\n",
              "    <tr>\n",
              "      <th>50%</th>\n",
              "      <td>3.566700</td>\n",
              "      <td>4.105832</td>\n",
              "      <td>20.900783</td>\n",
              "    </tr>\n",
              "    <tr>\n",
              "      <th>75%</th>\n",
              "      <td>4.183800</td>\n",
              "      <td>5.632432</td>\n",
              "      <td>28.236842</td>\n",
              "    </tr>\n",
              "    <tr>\n",
              "      <th>max</th>\n",
              "      <td>15.000100</td>\n",
              "      <td>34.066667</td>\n",
              "      <td>141.909091</td>\n",
              "    </tr>\n",
              "  </tbody>\n",
              "</table>\n",
              "</div>"
            ],
            "text/plain": [
              "           MedInc   AveBedrms    AveRooms\n",
              "count  125.000000  125.000000  125.000000\n",
              "mean     3.726971    5.252414   25.839292\n",
              "std      1.745624    4.004995   17.835720\n",
              "min      0.499900    1.750000   12.774709\n",
              "25%      2.712000    3.169935   16.788462\n",
              "50%      3.566700    4.105832   20.900783\n",
              "75%      4.183800    5.632432   28.236842\n",
              "max     15.000100   34.066667  141.909091"
            ]
          },
          "execution_count": 19,
          "metadata": {},
          "output_type": "execute_result"
        }
      ],
      "source": [
        "data_from_cluster = features_df[cluster.labels_ == 0]\n",
        "data_from_cluster.describe()"
      ]
    },
    {
      "cell_type": "code",
      "execution_count": null,
      "id": "5c901586-a42e-4787-a3b4-92df92a56251",
      "metadata": {
        "colab": {
          "base_uri": "https://localhost:8080/",
          "height": 300
        },
        "id": "5c901586-a42e-4787-a3b4-92df92a56251",
        "outputId": "f610fc68-a1e2-42d7-d9e8-c8029618d650"
      },
      "outputs": [
        {
          "data": {
            "text/html": [
              "<div>\n",
              "<style scoped>\n",
              "    .dataframe tbody tr th:only-of-type {\n",
              "        vertical-align: middle;\n",
              "    }\n",
              "\n",
              "    .dataframe tbody tr th {\n",
              "        vertical-align: top;\n",
              "    }\n",
              "\n",
              "    .dataframe thead th {\n",
              "        text-align: right;\n",
              "    }\n",
              "</style>\n",
              "<table border=\"1\" class=\"dataframe\">\n",
              "  <thead>\n",
              "    <tr style=\"text-align: right;\">\n",
              "      <th></th>\n",
              "      <th>MedInc</th>\n",
              "      <th>AveBedrms</th>\n",
              "      <th>AveRooms</th>\n",
              "    </tr>\n",
              "  </thead>\n",
              "  <tbody>\n",
              "    <tr>\n",
              "      <th>count</th>\n",
              "      <td>17356.000000</td>\n",
              "      <td>17356.000000</td>\n",
              "      <td>17356.000000</td>\n",
              "    </tr>\n",
              "    <tr>\n",
              "      <th>mean</th>\n",
              "      <td>3.284979</td>\n",
              "      <td>1.075956</td>\n",
              "      <td>4.985627</td>\n",
              "    </tr>\n",
              "    <tr>\n",
              "      <th>std</th>\n",
              "      <td>1.154175</td>\n",
              "      <td>0.156540</td>\n",
              "      <td>1.086993</td>\n",
              "    </tr>\n",
              "    <tr>\n",
              "      <th>min</th>\n",
              "      <td>0.499900</td>\n",
              "      <td>0.333333</td>\n",
              "      <td>0.846154</td>\n",
              "    </tr>\n",
              "    <tr>\n",
              "      <th>25%</th>\n",
              "      <td>2.398075</td>\n",
              "      <td>1.008538</td>\n",
              "      <td>4.304965</td>\n",
              "    </tr>\n",
              "    <tr>\n",
              "      <th>50%</th>\n",
              "      <td>3.212150</td>\n",
              "      <td>1.052492</td>\n",
              "      <td>4.996480</td>\n",
              "    </tr>\n",
              "    <tr>\n",
              "      <th>75%</th>\n",
              "      <td>4.107100</td>\n",
              "      <td>1.102889</td>\n",
              "      <td>5.626363</td>\n",
              "    </tr>\n",
              "    <tr>\n",
              "      <th>max</th>\n",
              "      <td>8.000000</td>\n",
              "      <td>3.500000</td>\n",
              "      <td>14.000000</td>\n",
              "    </tr>\n",
              "  </tbody>\n",
              "</table>\n",
              "</div>"
            ],
            "text/plain": [
              "             MedInc     AveBedrms      AveRooms\n",
              "count  17356.000000  17356.000000  17356.000000\n",
              "mean       3.284979      1.075956      4.985627\n",
              "std        1.154175      0.156540      1.086993\n",
              "min        0.499900      0.333333      0.846154\n",
              "25%        2.398075      1.008538      4.304965\n",
              "50%        3.212150      1.052492      4.996480\n",
              "75%        4.107100      1.102889      5.626363\n",
              "max        8.000000      3.500000     14.000000"
            ]
          },
          "execution_count": 20,
          "metadata": {},
          "output_type": "execute_result"
        }
      ],
      "source": [
        "data_from_cluster = features_df[cluster.labels_ == 1]\n",
        "data_from_cluster.describe()"
      ]
    },
    {
      "cell_type": "code",
      "execution_count": null,
      "id": "5a46d8bf-2d3b-4983-9f9f-3ccad46bb515",
      "metadata": {
        "colab": {
          "base_uri": "https://localhost:8080/",
          "height": 300
        },
        "id": "5a46d8bf-2d3b-4983-9f9f-3ccad46bb515",
        "outputId": "35aee053-2f15-4b65-dd3d-8c818a4f5462"
      },
      "outputs": [
        {
          "data": {
            "text/html": [
              "<div>\n",
              "<style scoped>\n",
              "    .dataframe tbody tr th:only-of-type {\n",
              "        vertical-align: middle;\n",
              "    }\n",
              "\n",
              "    .dataframe tbody tr th {\n",
              "        vertical-align: top;\n",
              "    }\n",
              "\n",
              "    .dataframe thead th {\n",
              "        text-align: right;\n",
              "    }\n",
              "</style>\n",
              "<table border=\"1\" class=\"dataframe\">\n",
              "  <thead>\n",
              "    <tr style=\"text-align: right;\">\n",
              "      <th></th>\n",
              "      <th>MedInc</th>\n",
              "      <th>AveBedrms</th>\n",
              "      <th>AveRooms</th>\n",
              "    </tr>\n",
              "  </thead>\n",
              "  <tbody>\n",
              "    <tr>\n",
              "      <th>count</th>\n",
              "      <td>3159.000000</td>\n",
              "      <td>3159.000000</td>\n",
              "      <td>3159.000000</td>\n",
              "    </tr>\n",
              "    <tr>\n",
              "      <th>mean</th>\n",
              "      <td>7.094231</td>\n",
              "      <td>1.046071</td>\n",
              "      <td>7.057331</td>\n",
              "    </tr>\n",
              "    <tr>\n",
              "      <th>std</th>\n",
              "      <td>1.966590</td>\n",
              "      <td>0.121728</td>\n",
              "      <td>0.895088</td>\n",
              "    </tr>\n",
              "    <tr>\n",
              "      <th>min</th>\n",
              "      <td>4.533300</td>\n",
              "      <td>0.600000</td>\n",
              "      <td>3.166667</td>\n",
              "    </tr>\n",
              "    <tr>\n",
              "      <th>25%</th>\n",
              "      <td>5.715850</td>\n",
              "      <td>0.994341</td>\n",
              "      <td>6.426593</td>\n",
              "    </tr>\n",
              "    <tr>\n",
              "      <th>50%</th>\n",
              "      <td>6.530800</td>\n",
              "      <td>1.028169</td>\n",
              "      <td>6.909524</td>\n",
              "    </tr>\n",
              "    <tr>\n",
              "      <th>75%</th>\n",
              "      <td>7.779200</td>\n",
              "      <td>1.069619</td>\n",
              "      <td>7.503223</td>\n",
              "    </tr>\n",
              "    <tr>\n",
              "      <th>max</th>\n",
              "      <td>15.000100</td>\n",
              "      <td>3.716418</td>\n",
              "      <td>14.706731</td>\n",
              "    </tr>\n",
              "  </tbody>\n",
              "</table>\n",
              "</div>"
            ],
            "text/plain": [
              "            MedInc    AveBedrms     AveRooms\n",
              "count  3159.000000  3159.000000  3159.000000\n",
              "mean      7.094231     1.046071     7.057331\n",
              "std       1.966590     0.121728     0.895088\n",
              "min       4.533300     0.600000     3.166667\n",
              "25%       5.715850     0.994341     6.426593\n",
              "50%       6.530800     1.028169     6.909524\n",
              "75%       7.779200     1.069619     7.503223\n",
              "max      15.000100     3.716418    14.706731"
            ]
          },
          "execution_count": 21,
          "metadata": {},
          "output_type": "execute_result"
        }
      ],
      "source": [
        "data_from_cluster = features_df[cluster.labels_ == 2]\n",
        "data_from_cluster.describe()"
      ]
    },
    {
      "cell_type": "markdown",
      "id": "83202a52-a56a-42d6-82e8-e4e1ba73f614",
      "metadata": {
        "id": "83202a52-a56a-42d6-82e8-e4e1ba73f614"
      },
      "source": [
        "**No nível hierarquico 2:**\n",
        "\n",
        "**Pude perceber que a média distoou entre os 3 agrupamentos, porém o desvio padrão teve leve similaridade entre o agrupamento 3 e 2.**\n",
        "\n",
        "**Possivelmente, será necessário uma quantidade maior de agrupamentos para poder descrever um padrão mais fidedígno ao dataset.**\n"
      ]
    },
    {
      "cell_type": "markdown",
      "id": "9nBlArEyCjGt",
      "metadata": {
        "id": "9nBlArEyCjGt"
      },
      "source": [
        "Realizando o agrupamento com os 43 clusters e gerando os gráficos para visualizá-los."
      ]
    },
    {
      "cell_type": "code",
      "execution_count": null,
      "id": "bed6828a-35fa-434b-b3f4-ffb3c8e9cba8",
      "metadata": {
        "colab": {
          "base_uri": "https://localhost:8080/"
        },
        "id": "bed6828a-35fa-434b-b3f4-ffb3c8e9cba8",
        "outputId": "8f7f85e1-3293-4f89-eb90-960b9b3d883c"
      },
      "outputs": [
        {
          "data": {
            "text/plain": [
              "array([ 0,  6,  0, ..., 34, 34, 34], dtype=int64)"
            ]
          },
          "execution_count": 22,
          "metadata": {},
          "output_type": "execute_result"
        }
      ],
      "source": [
        "cluster = AgglomerativeClustering(n_clusters=43, affinity='euclidean', linkage='ward')\n",
        "cluster.fit_predict(features_df)"
      ]
    },
    {
      "cell_type": "code",
      "execution_count": null,
      "id": "07f554a2-7159-4b47-b96b-df8a7123a0e0",
      "metadata": {
        "colab": {
          "base_uri": "https://localhost:8080/"
        },
        "id": "07f554a2-7159-4b47-b96b-df8a7123a0e0",
        "outputId": "ef51678d-08d4-4534-bb00-958823d9e06d"
      },
      "outputs": [
        {
          "data": {
            "text/plain": [
              "array([ 0,  6,  0, 12, 41, 10,  1,  4, 24,  1, 27,  4, 28, 24, 35, 24,  5,\n",
              "        3, 34, 28, 35, 35, 34, 34, 28, 24, 24, 34, 35, 34, 34, 34, 18, 35,\n",
              "       24, 35, 35, 15,  4, 20, 24, 15, 15,  1,  4, 24,  3, 15, 15, 25, 25,\n",
              "       35, 35, 15, 35, 35, 35, 18, 35,  3,  5, 12, 18, 32,  5, 18, 35,  5,\n",
              "        5, 35, 18, 15, 18, 25,  5, 15, 28, 18, 35, 24, 15, 15, 15, 25, 18,\n",
              "        5, 25, 25, 15, 15, 25, 25, 15, 20,  3, 25, 20,  3, 15, 20],\n",
              "      dtype=int64)"
            ]
          },
          "execution_count": 23,
          "metadata": {},
          "output_type": "execute_result"
        }
      ],
      "source": [
        "cluster.labels_[0:100]"
      ]
    },
    {
      "cell_type": "code",
      "execution_count": null,
      "id": "14225ae3-2c7f-4fd0-81af-455fcb38a973",
      "metadata": {
        "colab": {
          "base_uri": "https://localhost:8080/",
          "height": 300
        },
        "id": "14225ae3-2c7f-4fd0-81af-455fcb38a973",
        "outputId": "e081e34d-9842-4a9f-f23f-aee76fb1f8cc"
      },
      "outputs": [
        {
          "data": {
            "text/html": [
              "<div>\n",
              "<style scoped>\n",
              "    .dataframe tbody tr th:only-of-type {\n",
              "        vertical-align: middle;\n",
              "    }\n",
              "\n",
              "    .dataframe tbody tr th {\n",
              "        vertical-align: top;\n",
              "    }\n",
              "\n",
              "    .dataframe thead th {\n",
              "        text-align: right;\n",
              "    }\n",
              "</style>\n",
              "<table border=\"1\" class=\"dataframe\">\n",
              "  <thead>\n",
              "    <tr style=\"text-align: right;\">\n",
              "      <th></th>\n",
              "      <th>MedInc</th>\n",
              "      <th>AveBedrms</th>\n",
              "      <th>AveRooms</th>\n",
              "    </tr>\n",
              "  </thead>\n",
              "  <tbody>\n",
              "    <tr>\n",
              "      <th>count</th>\n",
              "      <td>563.000000</td>\n",
              "      <td>563.000000</td>\n",
              "      <td>563.000000</td>\n",
              "    </tr>\n",
              "    <tr>\n",
              "      <th>mean</th>\n",
              "      <td>8.008595</td>\n",
              "      <td>1.036208</td>\n",
              "      <td>7.502234</td>\n",
              "    </tr>\n",
              "    <tr>\n",
              "      <th>std</th>\n",
              "      <td>0.558097</td>\n",
              "      <td>0.073288</td>\n",
              "      <td>0.560234</td>\n",
              "    </tr>\n",
              "    <tr>\n",
              "      <th>min</th>\n",
              "      <td>6.859100</td>\n",
              "      <td>0.879245</td>\n",
              "      <td>6.400000</td>\n",
              "    </tr>\n",
              "    <tr>\n",
              "      <th>25%</th>\n",
              "      <td>7.587150</td>\n",
              "      <td>0.994437</td>\n",
              "      <td>7.113695</td>\n",
              "    </tr>\n",
              "    <tr>\n",
              "      <th>50%</th>\n",
              "      <td>7.960600</td>\n",
              "      <td>1.026515</td>\n",
              "      <td>7.434579</td>\n",
              "    </tr>\n",
              "    <tr>\n",
              "      <th>75%</th>\n",
              "      <td>8.392750</td>\n",
              "      <td>1.059107</td>\n",
              "      <td>7.874495</td>\n",
              "    </tr>\n",
              "    <tr>\n",
              "      <th>max</th>\n",
              "      <td>9.532000</td>\n",
              "      <td>1.500000</td>\n",
              "      <td>9.505155</td>\n",
              "    </tr>\n",
              "  </tbody>\n",
              "</table>\n",
              "</div>"
            ],
            "text/plain": [
              "           MedInc   AveBedrms    AveRooms\n",
              "count  563.000000  563.000000  563.000000\n",
              "mean     8.008595    1.036208    7.502234\n",
              "std      0.558097    0.073288    0.560234\n",
              "min      6.859100    0.879245    6.400000\n",
              "25%      7.587150    0.994437    7.113695\n",
              "50%      7.960600    1.026515    7.434579\n",
              "75%      8.392750    1.059107    7.874495\n",
              "max      9.532000    1.500000    9.505155"
            ]
          },
          "execution_count": 24,
          "metadata": {},
          "output_type": "execute_result"
        }
      ],
      "source": [
        "#Verificando primeiro agrupamento\n",
        "group1 = features_df[cluster.labels_ == 0]\n",
        "group1.describe()\n"
      ]
    },
    {
      "cell_type": "code",
      "execution_count": null,
      "id": "4c4d1c3a-e6de-4870-af1f-d35796a1aacf",
      "metadata": {
        "colab": {
          "base_uri": "https://localhost:8080/",
          "height": 300
        },
        "id": "4c4d1c3a-e6de-4870-af1f-d35796a1aacf",
        "outputId": "34e6e497-5d52-4b54-9d4e-8e7fdaf1f3b4"
      },
      "outputs": [
        {
          "data": {
            "text/html": [
              "<div>\n",
              "<style scoped>\n",
              "    .dataframe tbody tr th:only-of-type {\n",
              "        vertical-align: middle;\n",
              "    }\n",
              "\n",
              "    .dataframe tbody tr th {\n",
              "        vertical-align: top;\n",
              "    }\n",
              "\n",
              "    .dataframe thead th {\n",
              "        text-align: right;\n",
              "    }\n",
              "</style>\n",
              "<table border=\"1\" class=\"dataframe\">\n",
              "  <thead>\n",
              "    <tr style=\"text-align: right;\">\n",
              "      <th></th>\n",
              "      <th>MedInc</th>\n",
              "      <th>AveBedrms</th>\n",
              "      <th>AveRooms</th>\n",
              "    </tr>\n",
              "  </thead>\n",
              "  <tbody>\n",
              "    <tr>\n",
              "      <th>count</th>\n",
              "      <td>25.000000</td>\n",
              "      <td>25.000000</td>\n",
              "      <td>25.000000</td>\n",
              "    </tr>\n",
              "    <tr>\n",
              "      <th>mean</th>\n",
              "      <td>3.098944</td>\n",
              "      <td>4.192655</td>\n",
              "      <td>19.953816</td>\n",
              "    </tr>\n",
              "    <tr>\n",
              "      <th>std</th>\n",
              "      <td>1.062828</td>\n",
              "      <td>0.882858</td>\n",
              "      <td>1.214161</td>\n",
              "    </tr>\n",
              "    <tr>\n",
              "      <th>min</th>\n",
              "      <td>0.499900</td>\n",
              "      <td>2.845238</td>\n",
              "      <td>17.546099</td>\n",
              "    </tr>\n",
              "    <tr>\n",
              "      <th>25%</th>\n",
              "      <td>2.393700</td>\n",
              "      <td>3.608355</td>\n",
              "      <td>18.977064</td>\n",
              "    </tr>\n",
              "    <tr>\n",
              "      <th>50%</th>\n",
              "      <td>3.125000</td>\n",
              "      <td>4.050000</td>\n",
              "      <td>20.033333</td>\n",
              "    </tr>\n",
              "    <tr>\n",
              "      <th>75%</th>\n",
              "      <td>3.937500</td>\n",
              "      <td>4.740000</td>\n",
              "      <td>20.939394</td>\n",
              "    </tr>\n",
              "    <tr>\n",
              "      <th>max</th>\n",
              "      <td>5.010000</td>\n",
              "      <td>6.000000</td>\n",
              "      <td>22.133588</td>\n",
              "    </tr>\n",
              "  </tbody>\n",
              "</table>\n",
              "</div>"
            ],
            "text/plain": [
              "          MedInc  AveBedrms   AveRooms\n",
              "count  25.000000  25.000000  25.000000\n",
              "mean    3.098944   4.192655  19.953816\n",
              "std     1.062828   0.882858   1.214161\n",
              "min     0.499900   2.845238  17.546099\n",
              "25%     2.393700   3.608355  18.977064\n",
              "50%     3.125000   4.050000  20.033333\n",
              "75%     3.937500   4.740000  20.939394\n",
              "max     5.010000   6.000000  22.133588"
            ]
          },
          "execution_count": 25,
          "metadata": {},
          "output_type": "execute_result"
        }
      ],
      "source": [
        "#verificando agrupamento 30\n",
        "group30 = features_df[cluster.labels_ == 29]\n",
        "group30.describe()"
      ]
    },
    {
      "cell_type": "code",
      "execution_count": null,
      "id": "57cf6b76-d425-4ced-a3aa-f1dc3c61791e",
      "metadata": {
        "colab": {
          "base_uri": "https://localhost:8080/",
          "height": 300
        },
        "id": "57cf6b76-d425-4ced-a3aa-f1dc3c61791e",
        "outputId": "754eef4f-abd3-47f9-d70d-cebf5a8572dc"
      },
      "outputs": [
        {
          "data": {
            "text/html": [
              "<div>\n",
              "<style scoped>\n",
              "    .dataframe tbody tr th:only-of-type {\n",
              "        vertical-align: middle;\n",
              "    }\n",
              "\n",
              "    .dataframe tbody tr th {\n",
              "        vertical-align: top;\n",
              "    }\n",
              "\n",
              "    .dataframe thead th {\n",
              "        text-align: right;\n",
              "    }\n",
              "</style>\n",
              "<table border=\"1\" class=\"dataframe\">\n",
              "  <thead>\n",
              "    <tr style=\"text-align: right;\">\n",
              "      <th></th>\n",
              "      <th>MedInc</th>\n",
              "      <th>AveBedrms</th>\n",
              "      <th>AveRooms</th>\n",
              "    </tr>\n",
              "  </thead>\n",
              "  <tbody>\n",
              "    <tr>\n",
              "      <th>count</th>\n",
              "      <td>12.000000</td>\n",
              "      <td>12.000000</td>\n",
              "      <td>12.000000</td>\n",
              "    </tr>\n",
              "    <tr>\n",
              "      <th>mean</th>\n",
              "      <td>3.163625</td>\n",
              "      <td>4.696854</td>\n",
              "      <td>23.902318</td>\n",
              "    </tr>\n",
              "    <tr>\n",
              "      <th>std</th>\n",
              "      <td>1.053380</td>\n",
              "      <td>0.831531</td>\n",
              "      <td>0.824653</td>\n",
              "    </tr>\n",
              "    <tr>\n",
              "      <th>min</th>\n",
              "      <td>2.062500</td>\n",
              "      <td>3.500000</td>\n",
              "      <td>22.228261</td>\n",
              "    </tr>\n",
              "    <tr>\n",
              "      <th>25%</th>\n",
              "      <td>2.175075</td>\n",
              "      <td>3.982041</td>\n",
              "      <td>23.509676</td>\n",
              "    </tr>\n",
              "    <tr>\n",
              "      <th>50%</th>\n",
              "      <td>2.904600</td>\n",
              "      <td>4.799336</td>\n",
              "      <td>24.009173</td>\n",
              "    </tr>\n",
              "    <tr>\n",
              "      <th>75%</th>\n",
              "      <td>4.070175</td>\n",
              "      <td>5.160526</td>\n",
              "      <td>24.508224</td>\n",
              "    </tr>\n",
              "    <tr>\n",
              "      <th>max</th>\n",
              "      <td>4.962000</td>\n",
              "      <td>6.071429</td>\n",
              "      <td>24.900000</td>\n",
              "    </tr>\n",
              "  </tbody>\n",
              "</table>\n",
              "</div>"
            ],
            "text/plain": [
              "          MedInc  AveBedrms   AveRooms\n",
              "count  12.000000  12.000000  12.000000\n",
              "mean    3.163625   4.696854  23.902318\n",
              "std     1.053380   0.831531   0.824653\n",
              "min     2.062500   3.500000  22.228261\n",
              "25%     2.175075   3.982041  23.509676\n",
              "50%     2.904600   4.799336  24.009173\n",
              "75%     4.070175   5.160526  24.508224\n",
              "max     4.962000   6.071429  24.900000"
            ]
          },
          "execution_count": 26,
          "metadata": {},
          "output_type": "execute_result"
        }
      ],
      "source": [
        "#verificando agrupamento 43\n",
        "group43 = features_df[cluster.labels_ == 42]\n",
        "group43.describe()"
      ]
    },
    {
      "cell_type": "markdown",
      "id": "XE0rZM4zFVMN",
      "metadata": {
        "id": "XE0rZM4zFVMN"
      },
      "source": [
        "## Análise dos grupos selecionados"
      ]
    },
    {
      "cell_type": "code",
      "execution_count": null,
      "id": "01e3b7a6-aa51-4b91-aade-d36ba6852f0f",
      "metadata": {
        "colab": {
          "base_uri": "https://localhost:8080/",
          "height": 386
        },
        "id": "01e3b7a6-aa51-4b91-aade-d36ba6852f0f",
        "outputId": "e69497eb-8800-454a-f103-5d95e4486f3b"
      },
      "outputs": [
        {
          "data": {
            "text/plain": [
              "<seaborn.axisgrid.FacetGrid at 0x19f36f20040>"
            ]
          },
          "execution_count": 27,
          "metadata": {},
          "output_type": "execute_result"
        },
        {
          "data": {
            "image/png": "[encoded data removed]",
            "text/plain": [
              "<Figure size 412x360 with 1 Axes>"
            ]
          },
          "metadata": {
            "needs_background": "light"
          },
          "output_type": "display_data"
        }
      ],
      "source": [
        "#Análise do grupo 1\n",
        "import seaborn as sns\n",
        "\n",
        "\n",
        "sns.relplot(x='AveBedrms',\n",
        "            y='AveRooms',\n",
        "            hue='MedInc',\n",
        "            data=group1,\n",
        "            kind='scatter',\n",
        "            palette='cool')\n",
        "\n",
        "\n"
      ]
    },
    {
      "cell_type": "markdown",
      "id": "xXalouORFXig",
      "metadata": {
        "id": "xXalouORFXig"
      },
      "source": [
        "Podemos verificar que há grande dispersão entre valores e casas.Podemos entender a correlação entre MedInc e números de Quartos e Salas."
      ]
    },
    {
      "cell_type": "code",
      "execution_count": null,
      "id": "72af9915-1320-469f-98cb-2801cf1bff56",
      "metadata": {
        "colab": {
          "base_uri": "https://localhost:8080/",
          "height": 386
        },
        "id": "72af9915-1320-469f-98cb-2801cf1bff56",
        "outputId": "bf5b0a54-b658-4415-ddc2-ea337a2a3b16"
      },
      "outputs": [
        {
          "data": {
            "text/plain": [
              "<seaborn.axisgrid.FacetGrid at 0x19f213545b0>"
            ]
          },
          "execution_count": 28,
          "metadata": {},
          "output_type": "execute_result"
        },
        {
          "data": {
            "image/png": "[encoded data removed]",
            "text/plain": [
              "<Figure size 412x360 with 1 Axes>"
            ]
          },
          "metadata": {
            "needs_background": "light"
          },
          "output_type": "display_data"
        }
      ],
      "source": [
        "#Analisando as coordenadas do cluster 30\n",
        "sns.relplot(x='AveBedrms',\n",
        "            y='AveRooms',\n",
        "            hue='MedInc',\n",
        "            data=group30,\n",
        "            kind='scatter',\n",
        "            palette='cool')\n",
        "\n"
      ]
    },
    {
      "cell_type": "code",
      "execution_count": null,
      "id": "d8d2c148-b082-49e3-802d-edc9c3d061db",
      "metadata": {
        "colab": {
          "base_uri": "https://localhost:8080/",
          "height": 386
        },
        "id": "d8d2c148-b082-49e3-802d-edc9c3d061db",
        "outputId": "45f80b38-3133-4f67-eb28-39bb2cf3dbe2"
      },
      "outputs": [
        {
          "data": {
            "text/plain": [
              "<seaborn.axisgrid.FacetGrid at 0x19f20d7a4f0>"
            ]
          },
          "execution_count": 29,
          "metadata": {},
          "output_type": "execute_result"
        },
        {
          "data": {
            "image/png": "[encoded data removed]",
            "text/plain": [
              "<Figure size 412x360 with 1 Axes>"
            ]
          },
          "metadata": {
            "needs_background": "light"
          },
          "output_type": "display_data"
        }
      ],
      "source": [
        "#Analisando as coordenadas do cluster 3\n",
        "sns.relplot(x='AveBedrms',\n",
        "            y='AveRooms',\n",
        "            hue='MedInc',\n",
        "            data=group43,\n",
        "            kind='scatter',\n",
        "            palette='cool')"
      ]
    },
    {
      "cell_type": "markdown",
      "id": "2bdfd469-8117-42f3-97aa-c052c90c6359",
      "metadata": {
        "id": "2bdfd469-8117-42f3-97aa-c052c90c6359"
      },
      "source": [
        "Podemos verificar através da análise mostrada abaixo, que grande parte dos nossoa grupamentos estão são parte da média de Income mais baixa. Além disso. Podemos perceber que, não necessariamente quem possui um Income maior possui mais cômodos"
      ]
    },
    {
      "cell_type": "code",
      "execution_count": null,
      "id": "6dd4b9ef-82d4-44cc-9c1a-f10e70c535d3",
      "metadata": {
        "colab": {
          "base_uri": "https://localhost:8080/",
          "height": 386
        },
        "id": "6dd4b9ef-82d4-44cc-9c1a-f10e70c535d3",
        "outputId": "693f9de8-1192-4d4e-ea7e-86a28e2205c3"
      },
      "outputs": [
        {
          "data": {
            "text/plain": [
              "<seaborn.axisgrid.FacetGrid at 0x19f21354370>"
            ]
          },
          "execution_count": 30,
          "metadata": {},
          "output_type": "execute_result"
        },
        {
          "data": {
            "image/png": "[encoded data removed]",
            "text/plain": [
              "<Figure size 418.375x360 with 1 Axes>"
            ]
          },
          "metadata": {
            "needs_background": "light"
          },
          "output_type": "display_data"
        }
      ],
      "source": [
        "sns.relplot(x='AveBedrms',\n",
        "            y='AveRooms',\n",
        "            hue='MedInc',\n",
        "            data=features_df,\n",
        "            kind='scatter',\n",
        "            palette='cool')"
      ]
    },
    {
      "cell_type": "markdown",
      "id": "KwZpQOYmIZXv",
      "metadata": {
        "id": "KwZpQOYmIZXv"
      },
      "source": [
        "Ressalto ainda, que o agrupamento escolhido foi ideal, baseado nos nossos parâmetros."
      ]
    },
    {
      "cell_type": "markdown",
      "id": "4ec8ef7d-7fa6-419d-a90b-6fcfea4e7baf",
      "metadata": {
        "id": "4ec8ef7d-7fa6-419d-a90b-6fcfea4e7baf"
      },
      "source": [
        "# Análise de componentes principais usando PCA"
      ]
    },
    {
      "cell_type": "markdown",
      "id": "8ae897e7-a0ab-4489-976f-ca714ddd9e6d",
      "metadata": {
        "id": "8ae897e7-a0ab-4489-976f-ca714ddd9e6d"
      },
      "source": [
        "#Componentes Principais (PCA)\n"
      ]
    },
    {
      "cell_type": "code",
      "execution_count": null,
      "id": "2603f559-ca9f-44ea-a768-f7f370011aed",
      "metadata": {
        "colab": {
          "base_uri": "https://localhost:8080/"
        },
        "id": "2603f559-ca9f-44ea-a768-f7f370011aed",
        "outputId": "4d83e249-b309-4f10-a124-0ea23ae6ff5f"
      },
      "outputs": [
        {
          "data": {
            "text/plain": [
              "PCA(n_components=2)"
            ]
          },
          "execution_count": 31,
          "metadata": {},
          "output_type": "execute_result"
        }
      ],
      "source": [
        "from sklearn.decomposition import PCA\n",
        "\n",
        "data_pca = c_housings_df\n",
        "pca_model = PCA(n_components = 2)\n",
        "pca_model.fit(data_pca)\n"
      ]
    },
    {
      "cell_type": "code",
      "execution_count": null,
      "id": "8da0f8d2-8bd5-4838-a28f-3c63691728fa",
      "metadata": {
        "colab": {
          "base_uri": "https://localhost:8080/"
        },
        "id": "8da0f8d2-8bd5-4838-a28f-3c63691728fa",
        "outputId": "4c332843-147b-49b4-b924-504b6e9c833e"
      },
      "outputs": [
        {
          "name": "stdout",
          "output_type": "stream",
          "text": [
            "Atributos de saída do PCA:\n",
            " \n",
            "Média: \n",
            "\n",
            " [ 3.87067100e+00  2.86394864e+01  5.42899974e+00  1.09667515e+00\n",
            "  1.42547674e+03  3.07065516e+00  3.56318614e+01 -1.19569704e+02]\n",
            "\n"
          ]
        }
      ],
      "source": [
        "#média dos dados\n",
        "print('Atributos de saída do PCA:\\n ')\n",
        "print(f'Média: \\n\\n {pca_model.mean_}')\n",
        "print()"
      ]
    },
    {
      "cell_type": "code",
      "execution_count": null,
      "id": "5b01c9a3-f679-4c43-9d44-dbe6db46feca",
      "metadata": {
        "colab": {
          "base_uri": "https://localhost:8080/"
        },
        "id": "5b01c9a3-f679-4c43-9d44-dbe6db46feca",
        "outputId": "eec7d855-247a-41c1-b216-480a5f5b689f"
      },
      "outputs": [
        {
          "name": "stdout",
          "output_type": "stream",
          "text": [
            "<----    Atributos de saída do PCA com relação às componentes principais: ---->\n",
            "\n",
            "Componentes principais (quantidade) 2\n",
            "\n",
            "----------------------------------------------------------------------------------------------------\n",
            "\n",
            "Componentes principais (dimnensões) (2, 8)\n",
            "\n",
            "----------------------------------------------------------------------------------------------------\n",
            "Matriz com componentes principais:\n",
            " \n",
            "  [[ 8.11734515e-06 -3.29264421e-03 -1.57754708e-04 -2.77006684e-05\n",
            "   9.99994324e-01  6.40764448e-04 -2.05179008e-04  1.76522227e-04]\n",
            " [-1.98005360e-02  9.92216370e-01 -3.90115135e-02 -4.23881026e-03\n",
            "   3.18858393e-03  1.15585346e-01 -3.52344718e-03 -1.38634158e-02]]\n",
            "\n",
            "\n",
            "----------------------------------------------------------------------------------------------------\n",
            "****************************************************************************************************\n",
            "----------------------------------------------------------------------------------------------------\n",
            "\n",
            "\n",
            "<----   Atributos de saída do PCA com relação ao dataset original:   ---->\n",
            "\n",
            "Média (dimensões): (8,)\n",
            "\n",
            "----------------------------------------------------------------------------------------------------\n",
            "\n",
            "vetor Xm:\n",
            "\n",
            " [ 3.87067100e+00  2.86394864e+01  5.42899974e+00  1.09667515e+00\n",
            "  1.42547674e+03  3.07065516e+00  3.56318614e+01 -1.19569704e+02]\n",
            "\n",
            "----------------------------------------------------------------------------------------------------\n",
            "\n",
            "Covariância (dimensões): (8, 8) \n",
            "\n",
            "----------------------------------------------------------------------------------------------------\n",
            "\n",
            "Matriz A de covariância: \n",
            "\n",
            " [[ 2.08705999e+01 -2.48006397e+00  9.45200809e-02  1.01601845e-02\n",
            "   1.04022856e+01 -2.78244304e-01  6.54924783e-03  3.60105825e-02]\n",
            " [-2.48006397e+00  1.57285352e+02 -4.15260020e+00 -4.06611558e-01\n",
            "  -4.22228047e+03  1.15714909e+01  4.31188466e-01 -2.45782650e+00]\n",
            " [ 9.45200809e-02 -4.15260020e+00  2.10430852e+01  2.61902581e-02\n",
            "  -2.02329101e+02 -6.90982390e-01  5.86225483e-02  3.16153518e-02]\n",
            " [ 1.01601845e-02 -4.06611558e-01  2.61902581e-02  2.08249285e+01\n",
            "  -3.55265962e+01 -8.37565163e-02  9.14829742e-03  1.04461994e-03]\n",
            " [ 1.04022856e+01 -4.22228047e+03 -2.02329101e+02 -3.55265962e+01\n",
            "   1.28247046e+06  8.21798677e+02 -2.63134636e+02  2.26376648e+02]\n",
            " [-2.78244304e-01  1.15714909e+01 -6.90982390e-01 -8.37565163e-02\n",
            "   8.21798677e+02  2.30114466e+01 -2.19307131e-01 -5.44256495e-02]\n",
            " [ 6.54924783e-03  4.31188466e-01  5.86225483e-02  9.14829742e-03\n",
            "  -2.63134636e+02 -2.19307131e-01  2.08772429e+01 -4.03681529e-02]\n",
            " [ 3.60105825e-02 -2.45782650e+00  3.16153518e-02  1.04461994e-03\n",
            "   2.26376648e+02 -5.44256495e-02 -4.03681529e-02  2.08855957e+01]]\n"
          ]
        }
      ],
      "source": [
        "print('<----    Atributos de saída do PCA com relação às componentes principais: ---->\\n' )\n",
        "print(f'Componentes principais (quantidade) {pca_model.n_components_}\\n')\n",
        "print('--'*50)\n",
        "print(f'\\nComponentes principais (dimnensões) {pca_model.components_.shape}\\n', )\n",
        "print('--'*50)\n",
        "print(f'Matriz com componentes principais:\\n \\n  {pca_model.components_}\\n\\n', )\n",
        "print('--'*50)\n",
        "\n",
        "#Verificando atributos em relação ao dataset original\n",
        "print('**'*50)\n",
        "print('--'*50)\n",
        "print('\\n\\n<----   Atributos de saída do PCA com relação ao dataset original:   ---->')\n",
        "print(f'\\nMédia (dimensões): {pca_model.mean_.shape}\\n')\n",
        "print('--'*50)\n",
        "print(f'\\nvetor Xm:\\n\\n {pca_model.mean_}\\n')\n",
        "print('--'*50)\n",
        "print(f'\\nCovariância (dimensões): {pca_model.get_covariance().shape} \\n')\n",
        "print('--'*50)\n",
        "print(f'\\nMatriz A de covariância: \\n\\n {pca_model.get_covariance()}', )\n"
      ]
    },
    {
      "cell_type": "code",
      "execution_count": null,
      "id": "78478d2d-f3fd-4dd7-b9d4-8280fef3fc65",
      "metadata": {
        "colab": {
          "base_uri": "https://localhost:8080/"
        },
        "id": "78478d2d-f3fd-4dd7-b9d4-8280fef3fc65",
        "outputId": "f6aa94b2-fb27-4f1f-a45c-ae2e35bc2f8b"
      },
      "outputs": [
        {
          "name": "stdout",
          "output_type": "stream",
          "text": [
            "Localização com maior contribuição na componente pc1: 4\n",
            "\n",
            "Maior valor de contribuição na pc1: 0.9999943244522552\n",
            "\n",
            "Localização com menor contribuição na componente pc1: 1\n",
            "\n",
            "Menor valor de contribuição na pc1: -0.003292644212769687\n",
            "\n",
            "===================================ANÁLISE DO PRINCIPAL COMPONENTE 2==========================================\n",
            "\n",
            "Localização com maior contribuição na componente pc2: 1\n",
            "\n",
            "Maior valor de contribuição na pc2: 0.9922163699796057\n",
            "\n",
            "Localização com menor contribuição na componente pc2: 2\n",
            "\n",
            "Menor valor de contribuição na pc2: -0.039011513519632855\n",
            "\n"
          ]
        }
      ],
      "source": [
        "U = pca_model.components_   #setando dataset com os componentes\n",
        "pc1, pc2 = U[0, :], U[1, :]  #realizando a divisão dos componentes para a análise\n",
        "\n",
        "print(f'Localização com maior contribuição na componente pc1: {pc1.argmax()}\\n' )\n",
        "print(f'Maior valor de contribuição na pc1: {pc1.max()}\\n') \n",
        "print(f'Localização com menor contribuição na componente pc1: {pc1.argmin()}\\n')\n",
        "print(f'Menor valor de contribuição na pc1: {pc1.min()}\\n')\n",
        "print('===================================ANÁLISE DO PRINCIPAL COMPONENTE 2==========================================\\n')\n",
        "print(f'Localização com maior contribuição na componente pc2: {pc2.argmax()}\\n')\n",
        "print(f'Maior valor de contribuição na pc2: {pc2.max()}\\n')\n",
        "print(f'Localização com menor contribuição na componente pc2: {pc2.argmin()}\\n')\n",
        "print(f'Menor valor de contribuição na pc2: {pc2.min()}\\n')"
      ]
    },
    {
      "cell_type": "code",
      "execution_count": null,
      "id": "105df1a6-dd52-4a48-8beb-4888a8ae84f5",
      "metadata": {
        "colab": {
          "base_uri": "https://localhost:8080/",
          "height": 297
        },
        "id": "105df1a6-dd52-4a48-8beb-4888a8ae84f5",
        "outputId": "fc1c58ae-0f6c-4eec-ad92-7d421a84820f"
      },
      "outputs": [
        {
          "data": {
            "image/png": "[encoded data removed]",
            "text/plain": [
              "<Figure size 432x288 with 2 Axes>"
            ]
          },
          "metadata": {
            "needs_background": "light"
          },
          "output_type": "display_data"
        }
      ],
      "source": [
        "# Plotar mapa de cor da matriz de componentes\n",
        "import matplotlib.pyplot as plt\n",
        "ax = plt.axes()\n",
        "\n",
        "im = ax.imshow(U, cmap=\"cool\",\n",
        "               vmin=U.min(),\n",
        "               vmax=U.max(),\n",
        "               aspect='auto')\n",
        "\n",
        "\n",
        "ax.set_yticks([0, 1])\n",
        "ax.set_yticklabels(['pc1', 'pc2'])\n",
        "\n",
        "plt.colorbar(im).ax.set_ylabel(\"Relevância do componente\", rotation=90)\n",
        "ax.set_title(\"Matriz de Componentes Crincipais (PC1, PC2)\")\n",
        "plt.tight_layout()"
      ]
    },
    {
      "cell_type": "markdown",
      "id": "d3067b35-3852-4f40-87f4-7ebbb1257b85",
      "metadata": {
        "id": "d3067b35-3852-4f40-87f4-7ebbb1257b85"
      },
      "source": [
        "Segundo a análise dos componentes, verificamos que:\n",
        "\n",
        "* PC1 -> **Componente com mais relevância** corresponde ao componente 4 do dataset original.\n",
        "* PC2 -> **Componente com mais relevância** corresponde ao componente 1 do dataset original."
      ]
    },
    {
      "cell_type": "code",
      "execution_count": null,
      "id": "d86e0ca2-9895-4d56-8d1d-53734d0f82aa",
      "metadata": {
        "colab": {
          "base_uri": "https://localhost:8080/"
        },
        "id": "d86e0ca2-9895-4d56-8d1d-53734d0f82aa",
        "outputId": "afb06341-699b-45d4-b3df-87c170f44456"
      },
      "outputs": [
        {
          "name": "stdout",
          "output_type": "stream",
          "text": [
            "Autovalores (relevância das componentes na dispersão dos dados originais): [162693.60217202   1731.78899064] \n"
          ]
        }
      ],
      "source": [
        "eigenvalues = pca_model.singular_values_\n",
        "print(f'Autovalores (relevância das componentes na dispersão dos dados originais): {eigenvalues} ')"
      ]
    },
    {
      "cell_type": "code",
      "execution_count": null,
      "id": "6d3ea674-1ce8-4985-aab9-b2962ba1c7ce",
      "metadata": {
        "colab": {
          "base_uri": "https://localhost:8080/"
        },
        "id": "6d3ea674-1ce8-4985-aab9-b2962ba1c7ce",
        "outputId": "c8331d15-dfb3-434c-b164-2d345ff67e9c"
      },
      "outputs": [
        {
          "name": "stdout",
          "output_type": "stream",
          "text": [
            "Variabilidade capturada pelas componentes principais: \n",
            "\n",
            "------------------------------------------------------------\n",
            "Valor absoluto: [1.28248501e+06 1.45311939e+02]\n",
            "\n",
            "------------------------------------------------------------\n",
            "Relativo por componente: [9.99789327e-01 1.13281110e-04]\n",
            "\n",
            "------------------------------------------------------------\n",
            "Variabilidade total capturada: 99.99% \n",
            "\n"
          ]
        }
      ],
      "source": [
        "# Análise de Variabilidade do nosso modelo PCA\n",
        "\n",
        "print(f'Variabilidade capturada pelas componentes principais: \\n')\n",
        "print('-'*60)\n",
        "print(f'Valor absoluto: {pca_model.explained_variance_}\\n')\n",
        "print('-'*60)\n",
        "print(f'Relativo por componente: {pca_model.explained_variance_ratio_}\\n')\n",
        "print('-'*60)\n",
        "print(f'Variabilidade total capturada: {sum(pca_model.explained_variance_ratio_)*100:.2f}% \\n')"
      ]
    },
    {
      "cell_type": "code",
      "execution_count": null,
      "id": "8f94288b-b3a5-4052-b099-018e672fc2dd",
      "metadata": {
        "colab": {
          "base_uri": "https://localhost:8080/"
        },
        "id": "8f94288b-b3a5-4052-b099-018e672fc2dd",
        "outputId": "365791e7-2fd5-408e-b9b2-ebdbaaab2f07"
      },
      "outputs": [
        {
          "name": "stdout",
          "output_type": "stream",
          "text": [
            "Antes da redução de dimensionalidade utilizando componentes principais, o dataset tinha 8 dimensões.\n",
            "------------------------------------------------------------\n",
            "\n",
            "Dimensões antes do PCA: (20640, 8)\n",
            "\n",
            "Dimensões após o PCA: (20640, 2)\n"
          ]
        }
      ],
      "source": [
        "pca_df = pca_model.transform(data_pca)\n",
        "\n",
        "print('Antes da redução de dimensionalidade utilizando componentes principais, o dataset tinha 8 dimensões.')\n",
        "print('-'*60)\n",
        "print(f'\\nDimensões antes do PCA: {data_pca.shape}', )\n",
        "print(f'\\nDimensões após o PCA: {pca_df.shape}', )\n"
      ]
    },
    {
      "cell_type": "code",
      "execution_count": null,
      "id": "58b0d706-dbf5-4786-ac1c-f1097dc7630f",
      "metadata": {
        "colab": {
          "base_uri": "https://localhost:8080/",
          "height": 700
        },
        "id": "58b0d706-dbf5-4786-ac1c-f1097dc7630f",
        "outputId": "671ea0f6-73f2-487b-e2dc-3e0940f9ebae"
      },
      "outputs": [
        {
          "data": {
            "image/png": "[encoded data removed]",
            "text/plain": [
              "<Figure size 864x864 with 1 Axes>"
            ]
          },
          "metadata": {
            "needs_background": "light"
          },
          "output_type": "display_data"
        }
      ],
      "source": [
        "#Plotando Gráfico de Componentes\n",
        "plt.figure(figsize=(12,12))\n",
        "\n",
        "plt.plot(pca_df[:, 0], #todos os dados do primeiro componente\n",
        "         pca_df[:, 1], #todos os dados do segundo componente\n",
        "         \"bo\",\n",
        "         markersize=1)\n",
        "plt.show()"
      ]
    },
    {
      "cell_type": "markdown",
      "id": "9f9854c5-d603-457c-8302-a95510b99190",
      "metadata": {
        "id": "9f9854c5-d603-457c-8302-a95510b99190"
      },
      "source": [
        "#RECONSTRUÇÃO DOS CENTROS DOS GRUPOS NO DF ORIGINAL"
      ]
    },
    {
      "cell_type": "markdown",
      "id": "VALPbHjqpvWD",
      "metadata": {
        "id": "VALPbHjqpvWD"
      },
      "source": [
        "Iremos reconstrir o modelo com K group igual a 7 inicalmente"
      ]
    },
    {
      "cell_type": "code",
      "execution_count": null,
      "id": "cec9f035-7614-4f66-8d5e-a727438946e3",
      "metadata": {
        "colab": {
          "base_uri": "https://localhost:8080/"
        },
        "id": "cec9f035-7614-4f66-8d5e-a727438946e3",
        "outputId": "2556b845-bb6b-49d5-cb60-761258e4d54f"
      },
      "outputs": [
        {
          "name": "stdout",
          "output_type": "stream",
          "text": [
            "Initialization complete\n",
            "Iteration 0, inertia 2381357017.407007\n",
            "Iteration 1, inertia 2009667506.2708094\n",
            "Iteration 2, inertia 1960638748.3519442\n",
            "Iteration 3, inertia 1950836731.4784005\n",
            "Iteration 4, inertia 1944339873.8631938\n",
            "Iteration 5, inertia 1938859390.5416443\n",
            "Iteration 6, inertia 1934957750.9770277\n",
            "Iteration 7, inertia 1931683394.7774894\n",
            "Iteration 8, inertia 1928745679.942733\n",
            "Iteration 9, inertia 1926637572.6924603\n",
            "Iteration 10, inertia 1924983149.2225072\n",
            "Iteration 11, inertia 1923883003.1195264\n",
            "Iteration 12, inertia 1922985048.5872798\n",
            "Iteration 13, inertia 1922273204.0499487\n",
            "Iteration 14, inertia 1921528154.85796\n",
            "Iteration 15, inertia 1920894124.5584261\n",
            "Iteration 16, inertia 1920261477.83637\n",
            "Iteration 17, inertia 1919703506.038288\n",
            "Iteration 18, inertia 1919289183.58947\n",
            "Iteration 19, inertia 1918914438.3961868\n",
            "Iteration 20, inertia 1918562374.9588776\n",
            "Converged at iteration 20: center shift 58.734198007521115 within tolerance 64.12840911050405.\n",
            "Initialization complete\n",
            "Iteration 0, inertia 2443039152.8697257\n",
            "Iteration 1, inertia 2107796052.8555796\n",
            "Iteration 2, inertia 2048063569.8726745\n",
            "Iteration 3, inertia 2021093122.756061\n",
            "Iteration 4, inertia 2004870790.6206214\n",
            "Iteration 5, inertia 1992179020.9580605\n",
            "Iteration 6, inertia 1980674033.8117466\n",
            "Iteration 7, inertia 1971597316.9888835\n",
            "Iteration 8, inertia 1965242964.358871\n",
            "Iteration 9, inertia 1959548126.7767475\n",
            "Iteration 10, inertia 1955078907.9290943\n",
            "Iteration 11, inertia 1951142565.9878228\n",
            "Iteration 12, inertia 1947975022.9426498\n",
            "Iteration 13, inertia 1945234444.9343655\n",
            "Iteration 14, inertia 1943053644.1554627\n",
            "Iteration 15, inertia 1941061306.3466945\n",
            "Iteration 16, inertia 1938502692.940785\n",
            "Iteration 17, inertia 1934830169.8076296\n",
            "Iteration 18, inertia 1930577157.5982707\n",
            "Iteration 19, inertia 1926876077.754334\n",
            "Iteration 20, inertia 1925037933.0550044\n",
            "Iteration 21, inertia 1923867645.71878\n",
            "Iteration 22, inertia 1922991861.6622725\n",
            "Iteration 23, inertia 1922240806.5326781\n",
            "Iteration 24, inertia 1921598116.0860264\n",
            "Iteration 25, inertia 1920945388.5902307\n",
            "Iteration 26, inertia 1920362527.2624686\n",
            "Iteration 27, inertia 1919718735.1471486\n",
            "Iteration 28, inertia 1919289183.58947\n",
            "Iteration 29, inertia 1918914438.3961868\n",
            "Iteration 30, inertia 1918562374.9588776\n",
            "Converged at iteration 30: center shift 58.73419800752083 within tolerance 64.12840911050405.\n",
            "Initialization complete\n",
            "Iteration 0, inertia 3007813245.8232164\n",
            "Iteration 1, inertia 2530879322.3917484\n",
            "Iteration 2, inertia 2417293551.030632\n",
            "Iteration 3, inertia 2380918353.884409\n",
            "Iteration 4, inertia 2349216382.4578166\n",
            "Iteration 5, inertia 2318230754.702275\n",
            "Iteration 6, inertia 2293233536.9745765\n",
            "Iteration 7, inertia 2270039513.9008403\n",
            "Iteration 8, inertia 2254456704.2330003\n",
            "Iteration 9, inertia 2239620093.689916\n",
            "Iteration 10, inertia 2224157388.4587455\n",
            "Iteration 11, inertia 2215200876.77122\n",
            "Iteration 12, inertia 2206027573.6043324\n",
            "Iteration 13, inertia 2197280563.324477\n",
            "Iteration 14, inertia 2189202619.010498\n",
            "Iteration 15, inertia 2180989399.47758\n",
            "Iteration 16, inertia 2173892798.6599174\n",
            "Iteration 17, inertia 2165848021.5615506\n",
            "Iteration 18, inertia 2160299350.0396204\n",
            "Iteration 19, inertia 2156750882.1563144\n",
            "Iteration 20, inertia 2153987904.2641883\n",
            "Iteration 21, inertia 2151751072.2164044\n",
            "Iteration 22, inertia 2150073786.8618984\n",
            "Iteration 23, inertia 2148632931.620073\n",
            "Iteration 24, inertia 2147436766.251314\n",
            "Iteration 25, inertia 2146376930.0251255\n",
            "Iteration 26, inertia 2145569966.7855716\n",
            "Iteration 27, inertia 2145036153.226354\n",
            "Iteration 28, inertia 2144580840.4165828\n",
            "Iteration 29, inertia 2144148299.6908534\n",
            "Iteration 30, inertia 2143706213.0361016\n",
            "Iteration 31, inertia 2143316924.8079329\n",
            "Iteration 32, inertia 2143034499.032084\n",
            "Converged at iteration 32: center shift 54.72445735729817 within tolerance 64.12840911050405.\n",
            "Initialization complete\n",
            "Iteration 0, inertia 2853807516.264873\n",
            "Iteration 1, inertia 2649008628.1569133\n",
            "Iteration 2, inertia 2630651613.655866\n",
            "Iteration 3, inertia 2605929532.5681896\n",
            "Iteration 4, inertia 2579764793.512887\n",
            "Iteration 5, inertia 2543266136.4658237\n",
            "Iteration 6, inertia 2508815870.575944\n",
            "Iteration 7, inertia 2494111394.626137\n",
            "Iteration 8, inertia 2481963416.639176\n",
            "Iteration 9, inertia 2471204491.704616\n",
            "Iteration 10, inertia 2462789148.3982115\n",
            "Iteration 11, inertia 2455299232.65649\n",
            "Iteration 12, inertia 2448485435.898804\n",
            "Iteration 13, inertia 2442360783.7149315\n",
            "Iteration 14, inertia 2433969903.623909\n",
            "Iteration 15, inertia 2417569694.8094363\n",
            "Iteration 16, inertia 2396283475.893425\n",
            "Iteration 17, inertia 2377255190.5367103\n",
            "Iteration 18, inertia 2362929609.4213524\n",
            "Iteration 19, inertia 2349219760.9690895\n",
            "Iteration 20, inertia 2331421003.3072515\n",
            "Iteration 21, inertia 2312796226.5187902\n",
            "Iteration 22, inertia 2289204918.059876\n",
            "Iteration 23, inertia 2261574737.5109262\n",
            "Iteration 24, inertia 2242778463.5491314\n",
            "Iteration 25, inertia 2223670038.7990665\n",
            "Iteration 26, inertia 2207270148.763629\n",
            "Iteration 27, inertia 2190678714.939358\n",
            "Iteration 28, inertia 2183191889.6232533\n",
            "Iteration 29, inertia 2175955325.160142\n",
            "Iteration 30, inertia 2168267906.671791\n",
            "Iteration 31, inertia 2161025794.1345353\n",
            "Iteration 32, inertia 2156703000.9807343\n",
            "Iteration 33, inertia 2153674240.2804894\n",
            "Iteration 34, inertia 2151464510.808264\n",
            "Iteration 35, inertia 2149884104.389008\n",
            "Iteration 36, inertia 2148410723.2336717\n",
            "Iteration 37, inertia 2147278335.7070134\n",
            "Iteration 38, inertia 2146280579.6444056\n",
            "Iteration 39, inertia 2145468775.3972979\n",
            "Iteration 40, inertia 2144966722.9055214\n",
            "Iteration 41, inertia 2144512120.912531\n",
            "Iteration 42, inertia 2144085493.5846298\n",
            "Iteration 43, inertia 2143645406.7205045\n",
            "Iteration 44, inertia 2143282460.2914748\n",
            "Iteration 45, inertia 2143017567.7357712\n",
            "Converged at iteration 45: center shift 55.15796965356641 within tolerance 64.12840911050405.\n",
            "Initialization complete\n",
            "Iteration 0, inertia 2600535020.439739\n",
            "Iteration 1, inertia 2099244862.4906073\n",
            "Iteration 2, inertia 2029450175.2695131\n",
            "Iteration 3, inertia 1990074788.15388\n",
            "Iteration 4, inertia 1967707810.0828881\n",
            "Iteration 5, inertia 1958812815.4043326\n",
            "Iteration 6, inertia 1953304699.1894817\n",
            "Iteration 7, inertia 1947952368.4702685\n",
            "Iteration 8, inertia 1945025008.5287538\n",
            "Iteration 9, inertia 1942602733.1352549\n",
            "Iteration 10, inertia 1941070471.370374\n",
            "Iteration 11, inertia 1939345106.964072\n",
            "Iteration 12, inertia 1937288741.3018456\n",
            "Iteration 13, inertia 1933416891.8265176\n",
            "Iteration 14, inertia 1929066773.1088576\n",
            "Iteration 15, inertia 1925575264.0154362\n",
            "Iteration 16, inertia 1924097958.3303034\n",
            "Iteration 17, inertia 1923117688.8119617\n",
            "Iteration 18, inertia 1922298427.1412683\n",
            "Iteration 19, inertia 1921642819.615991\n",
            "Iteration 20, inertia 1920983988.4489412\n",
            "Iteration 21, inertia 1920410282.7555857\n",
            "Iteration 22, inertia 1919748410.8726916\n",
            "Iteration 23, inertia 1919271409.9084854\n",
            "Converged at iteration 23: center shift 63.63148655819073 within tolerance 64.12840911050405.\n",
            "Initialization complete\n",
            "Iteration 0, inertia 3094658832.5910244\n",
            "Iteration 1, inertia 2851962041.504573\n",
            "Iteration 2, inertia 2794084738.510726\n",
            "Iteration 3, inertia 2756598868.647976\n",
            "Iteration 4, inertia 2736602113.7104692\n",
            "Iteration 5, inertia 2723124259.5679708\n",
            "Iteration 6, inertia 2709583999.0678377\n",
            "Iteration 7, inertia 2694561075.778213\n",
            "Iteration 8, inertia 2682780018.4016895\n",
            "Iteration 9, inertia 2672063960.3577595\n",
            "Iteration 10, inertia 2659845393.342416\n",
            "Iteration 11, inertia 2650192100.522412\n",
            "Iteration 12, inertia 2642967320.6384544\n",
            "Iteration 13, inertia 2637112926.2134175\n",
            "Iteration 14, inertia 2631222801.0487814\n",
            "Iteration 15, inertia 2623096192.293876\n",
            "Iteration 16, inertia 2606255991.318284\n",
            "Iteration 17, inertia 2580184382.132351\n",
            "Iteration 18, inertia 2545379024.1684747\n",
            "Iteration 19, inertia 2506629240.6348777\n",
            "Iteration 20, inertia 2491888359.702197\n",
            "Iteration 21, inertia 2479035959.0103726\n",
            "Iteration 22, inertia 2467675562.7238503\n",
            "Iteration 23, inertia 2459385480.7554975\n",
            "Iteration 24, inertia 2452016226.961985\n",
            "Iteration 25, inertia 2445332456.120874\n",
            "Iteration 26, inertia 2439470272.3589096\n",
            "Iteration 27, inertia 2430086469.363113\n",
            "Iteration 28, inertia 2414659080.199591\n",
            "Iteration 29, inertia 2392798063.103971\n",
            "Iteration 30, inertia 2374021632.733868\n",
            "Iteration 31, inertia 2359992064.7198253\n",
            "Iteration 32, inertia 2345776456.532125\n",
            "Iteration 33, inertia 2327074693.657491\n",
            "Iteration 34, inertia 2309021705.191981\n",
            "Iteration 35, inertia 2286440874.8654714\n",
            "Iteration 36, inertia 2259195086.8742366\n",
            "Iteration 37, inertia 2240341885.6035786\n",
            "Iteration 38, inertia 2221366777.524374\n"
          ]
        },
        {
          "name": "stdout",
          "output_type": "stream",
          "text": [
            "Iteration 39, inertia 2205100963.4523306\n",
            "Iteration 40, inertia 2188493032.991968\n",
            "Iteration 41, inertia 2181561650.6858234\n",
            "Iteration 42, inertia 2173902430.6873035\n",
            "Iteration 43, inertia 2166023780.8860283\n",
            "Iteration 44, inertia 2159822347.9032965\n",
            "Iteration 45, inertia 2155711193.2863336\n",
            "Iteration 46, inertia 2152962717.8954916\n",
            "Iteration 47, inertia 2151043909.046378\n",
            "Iteration 48, inertia 2149506224.5652156\n",
            "Iteration 49, inertia 2148073363.9423394\n",
            "Iteration 50, inertia 2147048410.2201655\n",
            "Iteration 51, inertia 2146115434.9794755\n",
            "Iteration 52, inertia 2145336452.1213908\n",
            "Iteration 53, inertia 2144894577.5670385\n",
            "Iteration 54, inertia 2144485576.3946576\n",
            "Iteration 55, inertia 2144062429.1346598\n",
            "Iteration 56, inertia 2143645406.7205048\n",
            "Iteration 57, inertia 2143282460.2914748\n",
            "Iteration 58, inertia 2143017567.7357712\n",
            "Converged at iteration 58: center shift 55.157969653566326 within tolerance 64.12840911050405.\n",
            "Initialization complete\n",
            "Iteration 0, inertia 2351651528.788624\n",
            "Iteration 1, inertia 2031172416.998902\n",
            "Iteration 2, inertia 1953635528.1111772\n",
            "Iteration 3, inertia 1931681237.424174\n",
            "Iteration 4, inertia 1923610800.6544003\n",
            "Iteration 5, inertia 1920856881.5900798\n",
            "Iteration 6, inertia 1919779748.7768586\n",
            "Iteration 7, inertia 1919386114.9301426\n",
            "Iteration 8, inertia 1918960572.9818325\n",
            "Iteration 9, inertia 1918605499.1455605\n",
            "Converged at iteration 9: center shift 60.72152757227352 within tolerance 64.12840911050405.\n",
            "Initialization complete\n",
            "Iteration 0, inertia 2823950823.9752064\n",
            "Iteration 1, inertia 2226241950.094239\n",
            "Iteration 2, inertia 2141747810.2914636\n",
            "Iteration 3, inertia 2078265924.0353093\n",
            "Iteration 4, inertia 1939029697.700575\n",
            "Iteration 5, inertia 1932950911.4207513\n",
            "Iteration 6, inertia 1929118068.4922392\n",
            "Iteration 7, inertia 1927149355.1727605\n",
            "Iteration 8, inertia 1925307520.442592\n",
            "Iteration 9, inertia 1924055772.6121843\n",
            "Iteration 10, inertia 1922571374.4884975\n",
            "Iteration 11, inertia 1921553986.7424734\n",
            "Iteration 12, inertia 1920616504.223003\n",
            "Iteration 13, inertia 1919914792.4923954\n",
            "Iteration 14, inertia 1919489117.3313675\n",
            "Iteration 15, inertia 1919125969.3992674\n",
            "Converged at iteration 15: center shift 60.27337488795585 within tolerance 64.12840911050405.\n",
            "Initialization complete\n",
            "Iteration 0, inertia 2374704658.5262103\n",
            "Iteration 1, inertia 2107417846.1546373\n",
            "Iteration 2, inertia 2074251208.0475774\n",
            "Iteration 3, inertia 2061689513.499732\n",
            "Iteration 4, inertia 2053162665.5360532\n",
            "Iteration 5, inertia 2045215679.9059825\n",
            "Iteration 6, inertia 2039464485.5556877\n",
            "Iteration 7, inertia 2034989871.611913\n",
            "Iteration 8, inertia 2030928336.4298298\n",
            "Iteration 9, inertia 2027557403.7243938\n",
            "Iteration 10, inertia 2024049929.693952\n",
            "Iteration 11, inertia 2020783184.811925\n",
            "Iteration 12, inertia 2017520409.1653986\n",
            "Iteration 13, inertia 2014843393.2530582\n",
            "Iteration 14, inertia 2012398315.5231547\n",
            "Iteration 15, inertia 2010372500.903712\n",
            "Iteration 16, inertia 2007888801.7117465\n",
            "Iteration 17, inertia 2003083838.7216115\n",
            "Iteration 18, inertia 2000217756.0481791\n",
            "Iteration 19, inertia 1998508100.6536472\n",
            "Iteration 20, inertia 1997067934.2625313\n",
            "Iteration 21, inertia 1995797841.5436764\n",
            "Iteration 22, inertia 1994980757.7868886\n",
            "Iteration 23, inertia 1994220275.7600644\n",
            "Iteration 24, inertia 1993661890.5240715\n",
            "Iteration 25, inertia 1992959899.1206641\n",
            "Iteration 26, inertia 1991721965.6232686\n",
            "Iteration 27, inertia 1989669312.8524938\n",
            "Iteration 28, inertia 1988334066.6307375\n",
            "Iteration 29, inertia 1986556323.7261956\n",
            "Iteration 30, inertia 1985066967.15195\n",
            "Iteration 31, inertia 1983904293.936493\n",
            "Iteration 32, inertia 1983139433.492159\n",
            "Iteration 33, inertia 1982578425.756646\n",
            "Iteration 34, inertia 1981980599.4164257\n",
            "Iteration 35, inertia 1981236838.5414736\n",
            "Iteration 36, inertia 1980814134.044237\n",
            "Iteration 37, inertia 1980335204.4060125\n",
            "Iteration 38, inertia 1979792441.6676638\n",
            "Iteration 39, inertia 1979407978.3214972\n",
            "Iteration 40, inertia 1978992456.6952915\n",
            "Iteration 41, inertia 1978647477.8562207\n",
            "Iteration 42, inertia 1978188634.8131905\n",
            "Iteration 43, inertia 1976944665.488422\n",
            "Iteration 44, inertia 1974817475.1074665\n",
            "Iteration 45, inertia 1972061430.056566\n",
            "Iteration 46, inertia 1970828388.3112965\n",
            "Iteration 47, inertia 1969970972.3245308\n",
            "Iteration 48, inertia 1969040036.442701\n",
            "Iteration 49, inertia 1967990532.4850569\n",
            "Iteration 50, inertia 1966895388.780566\n",
            "Iteration 51, inertia 1965894915.7964118\n",
            "Iteration 52, inertia 1964964542.8316298\n",
            "Iteration 53, inertia 1964173680.3142009\n",
            "Iteration 54, inertia 1962518551.7295392\n",
            "Iteration 55, inertia 1961532431.1929538\n",
            "Iteration 56, inertia 1960865145.8843007\n",
            "Iteration 57, inertia 1960162099.8321009\n",
            "Iteration 58, inertia 1959387119.748673\n",
            "Iteration 59, inertia 1958484269.082105\n",
            "Iteration 60, inertia 1957759468.9000018\n",
            "Iteration 61, inertia 1957201375.24965\n",
            "Iteration 62, inertia 1956702064.8073049\n",
            "Iteration 63, inertia 1956229503.8500993\n",
            "Converged at iteration 63: center shift 55.19422991705149 within tolerance 64.12840911050405.\n",
            "Initialization complete\n",
            "Iteration 0, inertia 2590081289.96956\n",
            "Iteration 1, inertia 2043020959.962512\n",
            "Iteration 2, inertia 2006526497.396476\n",
            "Iteration 3, inertia 1987361056.1452556\n",
            "Iteration 4, inertia 1973821968.5126534\n",
            "Iteration 5, inertia 1965418555.9965904\n",
            "Iteration 6, inertia 1959527814.0065215\n",
            "Iteration 7, inertia 1953598227.320436\n",
            "Iteration 8, inertia 1949809563.604922\n",
            "Iteration 9, inertia 1946588186.9998312\n",
            "Iteration 10, inertia 1944243354.4391057\n",
            "Iteration 11, inertia 1942640369.9399838\n",
            "Iteration 12, inertia 1940746269.814231\n",
            "Iteration 13, inertia 1938937284.8240218\n",
            "Iteration 14, inertia 1935643417.6688423\n",
            "Iteration 15, inertia 1931022081.147555\n",
            "Iteration 16, inertia 1927000765.8789835\n",
            "Iteration 17, inertia 1924976579.735895\n",
            "Iteration 18, inertia 1923907152.7517724\n",
            "Iteration 19, inertia 1923007313.1154382\n",
            "Iteration 20, inertia 1922240806.5326781\n",
            "Iteration 21, inertia 1921598116.0860264\n",
            "Iteration 22, inertia 1920945388.5902305\n",
            "Iteration 23, inertia 1920362527.2624686\n",
            "Iteration 24, inertia 1919718735.1471488\n",
            "Iteration 25, inertia 1919289183.5894704\n",
            "Iteration 26, inertia 1918914438.3961868\n",
            "Iteration 27, inertia 1918562374.9588773\n",
            "Converged at iteration 27: center shift 58.73419800752861 within tolerance 64.12840911050405.\n"
          ]
        },
        {
          "data": {
            "text/plain": [
              "KMeans(max_iter=2000, n_clusters=7, verbose=2)"
            ]
          },
          "execution_count": 40,
          "metadata": {},
          "output_type": "execute_result"
        }
      ],
      "source": [
        "K_group7_model = KMeans(n_clusters=7,\n",
        "                        init='k-means++',\n",
        "                        max_iter=2000,\n",
        "                        verbose=2)\n",
        "K_group7_model.fit(pca_df)"
      ]
    },
    {
      "cell_type": "code",
      "execution_count": null,
      "id": "a07f5896-0763-4a53-9352-08a8d470cd8e",
      "metadata": {
        "colab": {
          "base_uri": "https://localhost:8080/"
        },
        "id": "a07f5896-0763-4a53-9352-08a8d470cd8e",
        "outputId": "f71f856f-b654-4c7b-8be1-20433e8977c9"
      },
      "outputs": [
        {
          "data": {
            "text/plain": [
              "1918310999.189268"
            ]
          },
          "execution_count": 41,
          "metadata": {},
          "output_type": "execute_result"
        }
      ],
      "source": [
        "K_group7_model.inertia_"
      ]
    },
    {
      "cell_type": "code",
      "execution_count": null,
      "id": "8a0e36f5-698a-4a3e-974a-a7f25b2269c1",
      "metadata": {
        "colab": {
          "base_uri": "https://localhost:8080/"
        },
        "id": "8a0e36f5-698a-4a3e-974a-a7f25b2269c1",
        "outputId": "48d15fb4-31a0-4638-f1ae-c875c84f03cd"
      },
      "outputs": [
        {
          "data": {
            "text/plain": [
              "array([[-2.82133580e+02,  8.82931025e-01],\n",
              "       [ 3.18036021e+03, -1.11913475e+00],\n",
              "       [ 1.45476724e+03, -2.31740845e+00],\n",
              "       [ 6.84337335e+03,  7.22969972e+00],\n",
              "       [-8.53869063e+02,  5.10748704e-01],\n",
              "       [ 3.06984042e+04,  8.22555387e+01],\n",
              "       [ 4.02236302e+02, -1.38858432e+00]])"
            ]
          },
          "execution_count": 42,
          "metadata": {},
          "output_type": "execute_result"
        }
      ],
      "source": [
        "K_group7_model.cluster_centers_"
      ]
    },
    {
      "cell_type": "code",
      "execution_count": null,
      "id": "48c18c83-7082-492c-8419-5ca616e3ed7d",
      "metadata": {
        "colab": {
          "base_uri": "https://localhost:8080/",
          "height": 265
        },
        "id": "48c18c83-7082-492c-8419-5ca616e3ed7d",
        "outputId": "79fb42bd-2e40-49d1-9bf1-37fafe892ea1"
      },
      "outputs": [
        {
          "data": {
            "image/png": "[encoded data removed]",
            "text/plain": [
              "<Figure size 432x288 with 1 Axes>"
            ]
          },
          "metadata": {
            "needs_background": "light"
          },
          "output_type": "display_data"
        }
      ],
      "source": [
        "plt.plot(pca_df[:, 0],\n",
        "         pca_df[:, 1],\n",
        "         \"k.\",\n",
        "         markersize=1)\n",
        "\n",
        "centroids_kg_7 = K_group7_model.cluster_centers_\n",
        "\n",
        "plt.scatter(centroids_kg_7[:, 0],\n",
        "    centroids_kg_7[:, 1],\n",
        "    marker=\"o\",\n",
        "    s=169,\n",
        "    linewidths=3,\n",
        "    color=\"b\",\n",
        "    zorder=10)\n",
        "plt.show()"
      ]
    },
    {
      "cell_type": "code",
      "execution_count": null,
      "id": "6f42ffb7-a053-4b57-885d-6e4ef718862a",
      "metadata": {
        "id": "6f42ffb7-a053-4b57-885d-6e4ef718862a",
        "outputId": "16e8dc6d-fdab-432f-d454-8d3dc9401e9b"
      },
      "outputs": [
        {
          "data": {
            "image/png": "[encoded data removed]",
            "text/plain": [
              "<Figure size 432x288 with 1 Axes>"
            ]
          },
          "metadata": {
            "needs_background": "light"
          },
          "output_type": "display_data"
        }
      ],
      "source": [
        "import numpy as np\n",
        "# Put the result into a color plot\n",
        "h = 0.2\n",
        "x_min, x_max = pca_df[:, 0].min() - 1, pca_df[:, 0].max() + 1\n",
        "y_min, y_max = pca_df[:, 1].min() - 1, pca_df[:, 1].max() + 1\n",
        "xx, yy = np.meshgrid(np.arange(x_min, x_max, h), np.arange(y_min, y_max, h))\n",
        "\n",
        "Z = K_group7_model.predict(np.c_[xx.ravel(), yy.ravel()])\n",
        "\n",
        "Z = Z.reshape(xx.shape)\n",
        "\n",
        "plt.figure(1)\n",
        "plt.clf()\n",
        "plt.imshow(\n",
        "    Z,\n",
        "    interpolation=\"Nearest\",\n",
        "    extent=(xx.min(), xx.max(), yy.min(), yy.max()),\n",
        "    cmap=plt.cm.Paired,\n",
        "    aspect=\"auto\",\n",
        "    origin=\"lower\",\n",
        ")\n",
        "\n",
        "plt.plot(pca_df[:, 0],\n",
        "         pca_df[:, 1],\n",
        "         \"k.\",\n",
        "         markersize=2)\n",
        "\n",
        "\n",
        "centroids = K_group7_model.cluster_centers_\n",
        "\n",
        "plt.scatter(centroids[:, 0],\n",
        "    centroids[:, 1],\n",
        "    marker=\"x\",\n",
        "    s=169,\n",
        "    linewidths=3,\n",
        "    color=\"w\",\n",
        "    zorder=10)\n",
        "plt.show()"
      ]
    },
    {
      "cell_type": "markdown",
      "id": "4f7ef925-cf39-489a-9392-e1676e2178ac",
      "metadata": {
        "id": "4f7ef925-cf39-489a-9392-e1676e2178ac"
      },
      "source": [
        "Como podemos obvservar com o gráfico acima, existem regioões de fontreira."
      ]
    },
    {
      "cell_type": "code",
      "execution_count": null,
      "id": "da091432-b16e-478b-adb1-c2201169a848",
      "metadata": {
        "id": "da091432-b16e-478b-adb1-c2201169a848",
        "outputId": "58cf6b7e-da58-4f95-d728-58835edd1e2d"
      },
      "outputs": [
        {
          "name": "stdout",
          "output_type": "stream",
          "text": [
            "Dimensões dos centróides antes da transformada inversa: (7, 2)\n",
            "Dimensões dos centróides depois da transformada inversa: (7, 8)\n"
          ]
        }
      ],
      "source": [
        "centroids_origin_dims = pca_model.inverse_transform(centroids)\n",
        "print(f'Dimensões dos centróides antes da transformada inversa: {centroids.shape}')\n",
        "print(f'Dimensões dos centróides depois da transformada inversa: {centroids_origin_dims.shape}')"
      ]
    },
    {
      "cell_type": "markdown",
      "id": "06caa5db-5842-4c74-b466-99da7d129af7",
      "metadata": {
        "id": "06caa5db-5842-4c74-b466-99da7d129af7"
      },
      "source": [
        "# DESAFIO\n",
        "\n",
        "Foi escolhido o **Mean Shift** (AGRUPAMENTO)"
      ]
    },
    {
      "cell_type": "markdown",
      "id": "5YTYHa0nk3Nj",
      "metadata": {
        "id": "5YTYHa0nk3Nj"
      },
      "source": [
        "A Mean-Shift é uma técnica de Clustering (agrupamento) na qual tem como objetivo inferir a média dos clusters de acordo com uma função de densidade, na qual em uma janela de interesse (range de dados que compreende o círculo) de faz o cálculo da área em que há mais densidade, e nesse ponto será determinado o ponto central da Mean-Shift e o círculo de interesse se move até esse novo ponto central. Esse processo é realizado de forma sucessiva e só termina quando a Mean-Shift é igual a inferência anterior."
      ]
    },
    {
      "cell_type": "markdown",
      "id": "k-Hr9fHxoUgf",
      "metadata": {
        "id": "k-Hr9fHxoUgf"
      },
      "source": [
        "São basicamente 3 passos: (1) estimar a densidade, (2) encontrar a moda da densidade, e (3) associar cada ponto a uma moda.\n",
        "\n",
        "Esse tipo de função de densidade é mais utilizada em processamento de imagens; mas também pode ser muito útil na análise visual de clusters em qualquer número de dimensões, na qual podem ser feitas análises para 1) detecção de anomalias (outliers), 2) identificação de padrões de outliers, e 3) através de um determinado range (janela de interesse) segmentar e concentrar as análises no ponto de maior densidade  e dentro desse espectro (Mean-Shift e Janela de Interesse) realizar segmentações e ações específicas de acordo com esses dados.\n",
        "\n",
        "Esse tipo de estudo com Mean-Shift na análise de clusters em mineração de dados, auxilia a determinar espectros de analises em grupos com melhores segmentações e similaridades e com o ‘corte‘ determinado pela janela de interesse.\n",
        "\n",
        "Um ponto negativo nessa abordagem, é que nem precisa olhar muito para ver que o custo computacional é alto, tornando-se inviável para grandes conjuntos de dados;"
      ]
    },
    {
      "cell_type": "code",
      "execution_count": null,
      "id": "RNAa-3HnniJH",
      "metadata": {
        "id": "RNAa-3HnniJH"
      },
      "outputs": [],
      "source": [
        "from sklearn.cluster import MeanShift"
      ]
    },
    {
      "cell_type": "code",
      "execution_count": null,
      "id": "EkDfX9VWu5tt",
      "metadata": {
        "colab": {
          "base_uri": "https://localhost:8080/",
          "height": 200
        },
        "id": "EkDfX9VWu5tt",
        "outputId": "6c7175c9-1d62-4a63-da9d-6ff6ff953816"
      },
      "outputs": [
        {
          "name": "stdout",
          "output_type": "stream",
          "text": [
            "Através do métdodo Mean Shift estima-se que há 8 disponíveis.\n"
          ]
        }
      ],
      "source": [
        "MS_DF = c_housings_df[['MedInc', 'AveBedrms','AveRooms']]\n",
        "MSClustering = MeanShift(bandwidth=5)\n",
        "MSClustering.fit(MS_DF)\n",
        "MSC_Labels = MSClustering.labels_\n",
        "MSC_centros = MSClustering.cluster_centers_\n",
        "MSC_n_clusters = len(np.unique(MSC_Labels))\n",
        "\n",
        "print(f'Através do métdodo Mean Shift estima-se que há {MSC_n_clusters} disponíveis.')"
      ]
    },
    {
      "cell_type": "markdown",
      "id": "91024fce",
      "metadata": {
        "id": "91024fce"
      },
      "source": [
        "Como podemos notar, o Mean Shift aproxima-se do número de agrupamentos ideal do Kmeans.\n",
        " Eu ainda estimaria um ideal de 7 agrupamentos caso fosse utilizar a metodologia Kmeans++\n",
        " \n"
      ]
    },
    {
      "cell_type": "code",
      "execution_count": null,
      "id": "2e20fced",
      "metadata": {
        "id": "2e20fced",
        "outputId": "77676eea-c1d4-4caf-9a05-9e6282a4027f"
      },
      "outputs": [
        {
          "data": {
            "text/plain": [
              "array([[  3.66570761,   1.06689268,   5.19217312],\n",
              "       [  3.4149    ,   7.3148317 ,  36.89401938],\n",
              "       [  3.28186   ,  10.37475835,  52.03218212],\n",
              "       [  2.7706    ,  13.47453704,  61.36990741],\n",
              "       [ 15.0001    ,   2.22222222,  22.22222222],\n",
              "       [ 10.2948    ,   4.04635762,  24.62582781],\n",
              "       [  4.625     ,  34.06666667, 132.53333333],\n",
              "       [  1.875     ,  25.63636364, 141.90909091]])"
            ]
          },
          "execution_count": 49,
          "metadata": {},
          "output_type": "execute_result"
        }
      ],
      "source": [
        "MSC_centros"
      ]
    },
    {
      "cell_type": "code",
      "execution_count": null,
      "id": "89e4cf4c",
      "metadata": {
        "id": "89e4cf4c",
        "outputId": "bff28b64-f1fc-4b31-e397-e8ded20548e0"
      },
      "outputs": [
        {
          "data": {
            "text/html": [
              "<div>\n",
              "<style scoped>\n",
              "    .dataframe tbody tr th:only-of-type {\n",
              "        vertical-align: middle;\n",
              "    }\n",
              "\n",
              "    .dataframe tbody tr th {\n",
              "        vertical-align: top;\n",
              "    }\n",
              "\n",
              "    .dataframe thead th {\n",
              "        text-align: right;\n",
              "    }\n",
              "</style>\n",
              "<table border=\"1\" class=\"dataframe\">\n",
              "  <thead>\n",
              "    <tr style=\"text-align: right;\">\n",
              "      <th></th>\n",
              "      <th>MedInc</th>\n",
              "      <th>AveBedrms</th>\n",
              "      <th>AveRooms</th>\n",
              "    </tr>\n",
              "  </thead>\n",
              "  <tbody>\n",
              "    <tr>\n",
              "      <th>0</th>\n",
              "      <td>8.3252</td>\n",
              "      <td>1.023810</td>\n",
              "      <td>6.984127</td>\n",
              "    </tr>\n",
              "    <tr>\n",
              "      <th>1</th>\n",
              "      <td>8.3014</td>\n",
              "      <td>0.971880</td>\n",
              "      <td>6.238137</td>\n",
              "    </tr>\n",
              "    <tr>\n",
              "      <th>2</th>\n",
              "      <td>7.2574</td>\n",
              "      <td>1.073446</td>\n",
              "      <td>8.288136</td>\n",
              "    </tr>\n",
              "    <tr>\n",
              "      <th>3</th>\n",
              "      <td>5.6431</td>\n",
              "      <td>1.073059</td>\n",
              "      <td>5.817352</td>\n",
              "    </tr>\n",
              "    <tr>\n",
              "      <th>4</th>\n",
              "      <td>3.8462</td>\n",
              "      <td>1.081081</td>\n",
              "      <td>6.281853</td>\n",
              "    </tr>\n",
              "    <tr>\n",
              "      <th>...</th>\n",
              "      <td>...</td>\n",
              "      <td>...</td>\n",
              "      <td>...</td>\n",
              "    </tr>\n",
              "    <tr>\n",
              "      <th>20635</th>\n",
              "      <td>1.5603</td>\n",
              "      <td>1.133333</td>\n",
              "      <td>5.045455</td>\n",
              "    </tr>\n",
              "    <tr>\n",
              "      <th>20636</th>\n",
              "      <td>2.5568</td>\n",
              "      <td>1.315789</td>\n",
              "      <td>6.114035</td>\n",
              "    </tr>\n",
              "    <tr>\n",
              "      <th>20637</th>\n",
              "      <td>1.7000</td>\n",
              "      <td>1.120092</td>\n",
              "      <td>5.205543</td>\n",
              "    </tr>\n",
              "    <tr>\n",
              "      <th>20638</th>\n",
              "      <td>1.8672</td>\n",
              "      <td>1.171920</td>\n",
              "      <td>5.329513</td>\n",
              "    </tr>\n",
              "    <tr>\n",
              "      <th>20639</th>\n",
              "      <td>2.3886</td>\n",
              "      <td>1.162264</td>\n",
              "      <td>5.254717</td>\n",
              "    </tr>\n",
              "  </tbody>\n",
              "</table>\n",
              "<p>20640 rows × 3 columns</p>\n",
              "</div>"
            ],
            "text/plain": [
              "       MedInc  AveBedrms  AveRooms\n",
              "0      8.3252   1.023810  6.984127\n",
              "1      8.3014   0.971880  6.238137\n",
              "2      7.2574   1.073446  8.288136\n",
              "3      5.6431   1.073059  5.817352\n",
              "4      3.8462   1.081081  6.281853\n",
              "...       ...        ...       ...\n",
              "20635  1.5603   1.133333  5.045455\n",
              "20636  2.5568   1.315789  6.114035\n",
              "20637  1.7000   1.120092  5.205543\n",
              "20638  1.8672   1.171920  5.329513\n",
              "20639  2.3886   1.162264  5.254717\n",
              "\n",
              "[20640 rows x 3 columns]"
            ]
          },
          "execution_count": 52,
          "metadata": {},
          "output_type": "execute_result"
        }
      ],
      "source": [
        "MS_DF"
      ]
    }
  ],
  "metadata": {
    "colab": {
      "collapsed_sections": [
        "4ec8ef7d-7fa6-419d-a90b-6fcfea4e7baf",
        "06caa5db-5842-4c74-b466-99da7d129af7"
      ],
      "provenance": [],
      "include_colab_link": true
    },
    "kernelspec": {
      "display_name": "Python 3",
      "language": "python",
      "name": "python3"
    },
    "language_info": {
      "codemirror_mode": {
        "name": "ipython",
        "version": 3
      },
      "file_extension": ".py",
      "mimetype": "text/x-python",
      "name": "python",
      "nbconvert_exporter": "python",
      "pygments_lexer": "ipython3",
      "version": "3.8.8"
    }
  },
  "nbformat": 4,
  "nbformat_minor": 5
}